{
 "cells": [
  {
   "cell_type": "markdown",
   "metadata": {},
   "source": [
    "# Decision Making"
   ]
  },
  {
   "cell_type": "markdown",
   "metadata": {},
   "source": [
    "- Decision making is required when we want to execute a code only if a certain condition is satisfied.\n",
    "\n",
    "- The if…elif…else statement is used in Python for decision making.\n",
    "\n",
    "- The program executes only if the test expresssion is true, else statement is not executed.\n",
    "- In Python, the body of the if statement is indicated by the indentation. Body starts with an indentation and the first unindented line marks the end."
   ]
  },
  {
   "cell_type": "markdown",
   "metadata": {},
   "source": [
    "# If Statement"
   ]
  },
  {
   "cell_type": "markdown",
   "metadata": {},
   "source": [
    "###### Syntax\n",
    "\n",
    "    if test expression:\n",
    "        statement(s)"
   ]
  },
  {
   "cell_type": "markdown",
   "metadata": {},
   "source": [
    "<img src=\"if.png\">"
   ]
  },
  {
   "cell_type": "markdown",
   "metadata": {},
   "source": [
    "### WAP to check if a number is even"
   ]
  },
  {
   "cell_type": "code",
   "execution_count": 2,
   "metadata": {},
   "outputs": [
    {
     "name": "stdout",
     "output_type": "stream",
     "text": [
      "Enter a number: 5\n",
      "Odd. \n",
      " This will execute, always.\n"
     ]
    }
   ],
   "source": [
    "num = int(input(\"Enter a number: \"))\n",
    "if(num % 2 == 0):\n",
    "    print(\"even\")\n",
    "print(\"Odd. \\n This will execute, always.\")"
   ]
  },
  {
   "cell_type": "markdown",
   "metadata": {},
   "source": [
    "# If-Else Statement"
   ]
  },
  {
   "cell_type": "markdown",
   "metadata": {},
   "source": [
    "##### Syntax\n",
    "    if (test expression):\n",
    "        Body of if\n",
    "    else:\n",
    "        Body of else"
   ]
  },
  {
   "cell_type": "markdown",
   "metadata": {},
   "source": [
    "<img src = 'if-else.jpg'>"
   ]
  },
  {
   "cell_type": "markdown",
   "metadata": {},
   "source": [
    "### WAP to print whether is number odd or even"
   ]
  },
  {
   "cell_type": "code",
   "execution_count": 7,
   "metadata": {},
   "outputs": [
    {
     "name": "stdout",
     "output_type": "stream",
     "text": [
      "Enter a number: 6\n",
      "even\n",
      "This will execute, always.\n"
     ]
    }
   ],
   "source": [
    "num = int(input(\"Enter a number: \"))\n",
    "if(num % 2 == 0):\n",
    "    print(\"even\")\n",
    "else:\n",
    "    print(\"odd\")\n",
    "    \n",
    "print('This will execute, always.')"
   ]
  },
  {
   "cell_type": "markdown",
   "metadata": {},
   "source": [
    "# Nested if-else"
   ]
  },
  {
   "cell_type": "markdown",
   "metadata": {},
   "source": [
    "<img src = 'nested-if-else.png'>"
   ]
  },
  {
   "cell_type": "markdown",
   "metadata": {},
   "source": [
    "Syntax-\n",
    "\n",
    "    if (test expression1):\n",
    "        if(test expression2):\n",
    "            statement(s)\n",
    "            if(test expression3):\n",
    "                statement(s)\n",
    "                :\n",
    "                :\n",
    "                :\n",
    "            else:\n",
    "                statement(s)\n",
    "       else:\n",
    "            statement(s)\n",
    "\n",
    "    else:\n",
    "        if(test expression1):\n",
    "            statement(s)\n",
    "                if(test expression2):\n",
    "                    statement(s)\n",
    "                    :\n",
    "                    :\n",
    "                    :\n",
    "                else:\n",
    "                    statement(s)\n",
    "         else:\n",
    "             statement(s)"
   ]
  },
  {
   "cell_type": "markdown",
   "metadata": {},
   "source": [
    "### WAP to check whteher a number is positive, negative or zero."
   ]
  },
  {
   "cell_type": "code",
   "execution_count": 8,
   "metadata": {},
   "outputs": [
    {
     "name": "stdout",
     "output_type": "stream",
     "text": [
      "Enter a number: 6\n",
      "Positive\n"
     ]
    }
   ],
   "source": [
    "num = float(input(\"Enter a number: \"))\n",
    "if (num >= 0):\n",
    "    if (num == 0):\n",
    "        print(\"Zero\")\n",
    "    else:\n",
    "        print(\"Positive\")\n",
    "else:\n",
    "    print(\"Negative\")"
   ]
  },
  {
   "cell_type": "markdown",
   "metadata": {},
   "source": [
    "### WAP to print whether it is a leap year or not"
   ]
  },
  {
   "cell_type": "code",
   "execution_count": 9,
   "metadata": {},
   "outputs": [
    {
     "name": "stdout",
     "output_type": "stream",
     "text": [
      "Enter a year: 2012\n",
      " is a leap year\n"
     ]
    }
   ],
   "source": [
    "year = int(input(\"Enter a year: \"))\n",
    "\n",
    "if (year % 4) == 0:\n",
    "    if (year % 100) == 0:\n",
    "        if (year % 400) == 0:\n",
    "            print(\" is a leap year\")\n",
    "        else:\n",
    "            print(\" is not a leap year\")\n",
    "    else:\n",
    "        print(\" is a leap year\")\n",
    "else:\n",
    "    print(\" is not a leap year\")"
   ]
  },
  {
   "cell_type": "markdown",
   "metadata": {},
   "source": [
    "# if - elif - else Statement"
   ]
  },
  {
   "cell_type": "markdown",
   "metadata": {},
   "source": [
    "<img src = 'if-elif-else.png'>"
   ]
  },
  {
   "cell_type": "markdown",
   "metadata": {},
   "source": [
    "Syntax\n",
    "\n",
    "    if (condition):\n",
    "        statement(s)\n",
    "        \n",
    "    elif (condition):\n",
    "        statement(s)\n",
    "        :\n",
    "        :\n",
    "        :\n",
    "    \n",
    "    else :\n",
    "        statements()"
   ]
  },
  {
   "cell_type": "markdown",
   "metadata": {},
   "source": [
    "### WAP to print largest of three numbers"
   ]
  },
  {
   "cell_type": "code",
   "execution_count": null,
   "metadata": {},
   "outputs": [],
   "source": [
    "num1 = 10\n",
    "num2 = 14\n",
    "num3 = 12\n",
    "\n",
    "#num1 = float(input(\"Enter first number: \"))\n",
    "#num2 = float(input(\"Enter second number: \"))\n",
    "#num3 = float(input(\"Enter third number: \"))\n",
    "\n",
    "if (num1 >= num2) and (num1 >= num3):\n",
    "    largest = num1\n",
    "elif (num2 >= num1) and (num2 >= num3):\n",
    "    largest = num2\n",
    "else:\n",
    "    largest = num3\n",
    "\n",
    "print(\"The largest number between\",num1,\",\",num2,\"and\",num3,\"is\",largest)"
   ]
  },
  {
   "cell_type": "markdown",
   "metadata": {},
   "source": [
    "### WAP to show the discount percentage a visitor is eligible for depending on the card type, day he/she is travelling and the time of his/her journey in the metro."
   ]
  },
  {
   "cell_type": "code",
   "execution_count": 6,
   "metadata": {
    "collapsed": true
   },
   "outputs": [
    {
     "name": "stdout",
     "output_type": "stream",
     "text": [
      "Enter 0 for token or 1 for smart card1\n",
      "Enter day or holidayMonday\n",
      " Enter time of check-in in 24-hour time format \n",
      "(eg : 9.0 for 9 AM)\n",
      "(eg : 16.30 for 4:30 PM )13.30\n",
      "You are eligible for 20% \n"
     ]
    }
   ],
   "source": [
    "card = int(input(\"Enter 0 for token or 1 for smart card\"))\n",
    "day = input(\"Enter day or holiday\")\n",
    "time = float(input(\" Enter time of check-in in 24-hour time format \\n(eg : 9.0 for 9 AM)\\n(eg : 16.30 for 4:30 PM )\"))\n",
    "\n",
    "if(card == 1):\n",
    "    if(day == 'Monday' or day == 'Tuesday' or day == 'Wednesday'or day == 'Thursday' or day == 'Friday' or day == 'Saturday' ):\n",
    "        if((time < 8.0) or (time > 12.0 and time < 17.0) or (time > 22.0)):\n",
    "            discount = '20%'\n",
    "        else:\n",
    "            discount = '10%'\n",
    "        \n",
    "    elif(day == 'Sunday' or day == 'Holiday'):\n",
    "        discount = '20%'\n",
    "        \n",
    "elif(card != 0):\n",
    "    discount = 'No discount'\n",
    "    \n",
    "print(\"You are eligible for %s \" %discount)"
   ]
  }
 ],
 "metadata": {
  "kernelspec": {
   "display_name": "Python 3",
   "language": "python",
   "name": "python3"
  },
  "language_info": {
   "codemirror_mode": {
    "name": "ipython",
    "version": 3
   },
   "file_extension": ".py",
   "mimetype": "text/x-python",
   "name": "python",
   "nbconvert_exporter": "python",
   "pygments_lexer": "ipython3",
   "version": "3.7.3"
  }
 },
 "nbformat": 4,
 "nbformat_minor": 2
}
