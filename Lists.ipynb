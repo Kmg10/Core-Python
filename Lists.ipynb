{
 "cells": [
  {
   "cell_type": "markdown",
   "metadata": {},
   "source": [
    "# Lists\n",
    "- ordered sequence\n",
    "- multiple data elements\n",
    "- multiple data types\n",
    "- mutable\n",
    "- iterable"
   ]
  },
  {
   "cell_type": "markdown",
   "metadata": {},
   "source": [
    "## Creating a list"
   ]
  },
  {
   "cell_type": "markdown",
   "metadata": {},
   "source": [
    "##### using [ ]"
   ]
  },
  {
   "cell_type": "code",
   "execution_count": 13,
   "metadata": {},
   "outputs": [
    {
     "name": "stdout",
     "output_type": "stream",
     "text": [
      "list1:  [1, 3, 6.8, True, 9]\n",
      "type(list1):  <class 'list'>\n"
     ]
    }
   ],
   "source": [
    "list1 = [1, 3, 6.8, True, 9]\n",
    "print('list1: ' , list1)\n",
    "print(\"type(list1): \" , type(list1))"
   ]
  },
  {
   "cell_type": "markdown",
   "metadata": {},
   "source": [
    "##### using list( )"
   ]
  },
  {
   "cell_type": "code",
   "execution_count": 14,
   "metadata": {},
   "outputs": [
    {
     "name": "stdout",
     "output_type": "stream",
     "text": [
      "list2:  [1, 3, 'dawn', 6, 8, 'dusk', 9]\n",
      "type(list2):  <class 'list'>\n"
     ]
    }
   ],
   "source": [
    "list2 = list((1, 3, 'dawn', 6, 8, 'dusk', 9))\n",
    "print('list2: ' , list2)\n",
    "print(\"type(list2): \" , type(list2))"
   ]
  },
  {
   "cell_type": "markdown",
   "metadata": {},
   "source": [
    "###### using range()"
   ]
  },
  {
   "cell_type": "code",
   "execution_count": 15,
   "metadata": {},
   "outputs": [
    {
     "name": "stdout",
     "output_type": "stream",
     "text": [
      "list_range:  range(0, 20)\n",
      "type(list_range):  <class 'range'>\n",
      "List from range:  [0, 1, 2, 3, 4, 5, 6, 7, 8, 9, 10, 11, 12, 13, 14, 15, 16, 17, 18, 19]\n",
      "<class 'list'>\n",
      "\n",
      "ran:  range(20, 7, -2)\n",
      "type(ran):  <class 'range'>\n",
      "List from range:  [20, 18, 16, 14, 12, 10, 8]\n",
      "<class 'list'>\n"
     ]
    }
   ],
   "source": [
    "list_range = range(20)\n",
    "print('list_range: ' , list_range)\n",
    "print(\"type(list_range): \" , type(list_range))\n",
    "list3 = list(list_range)\n",
    "print(\"List from range: \", list3)\n",
    "print(type(list3))\n",
    "ran = range(20,7,-2)\n",
    "print('\\nran: ' , ran)\n",
    "print(\"type(ran): \" , type(ran))\n",
    "list4 = list(ran)\n",
    "print(\"List from range: \", list4)\n",
    "print(type(list4))"
   ]
  },
  {
   "cell_type": "markdown",
   "metadata": {},
   "source": [
    "## Nested Lists\n",
    "- lists wihin the list\n",
    "- Many elements\n",
    "- Multiple data types"
   ]
  },
  {
   "cell_type": "code",
   "execution_count": 16,
   "metadata": {
    "collapsed": true
   },
   "outputs": [
    {
     "name": "stdout",
     "output_type": "stream",
     "text": [
      "nest_li: \n",
      " [12, 3.4, 'apple', ['Charlie Puth', ['Attention', 'Dangerously']], '1Direction', [True, 0.9]]\n",
      "type(nest_li):  <class 'list'>\n",
      "Length of the outer list:  6\n"
     ]
    }
   ],
   "source": [
    "nest_li = [12, 3.4, 'apple', ['Charlie Puth', ['Attention', 'Dangerously']], '1Direction', [True, 0.9]]\n",
    "print('nest_li: \\n' , nest_li)\n",
    "print(\"type(nest_li): \" , type(nest_li))\n",
    "print(\"Length of the outer list: \", len(nest_li))"
   ]
  },
  {
   "cell_type": "markdown",
   "metadata": {},
   "source": [
    "## Accessing Elements\n",
    "- Syntax:\n",
    "          \n",
    "      list_name [index_outer_list] [index_inner_list1]...[index_inner_list_n]"
   ]
  },
  {
   "cell_type": "code",
   "execution_count": 17,
   "metadata": {
    "collapsed": true
   },
   "outputs": [
    {
     "name": "stdout",
     "output_type": "stream",
     "text": [
      "list1[2]:  6.8\n",
      "list2[5]:  dusk\n",
      "list3[14]:  14\n",
      "nest_li[5]:  [True, 0.9]\n",
      "nest_li[5][1]:  0.9\n",
      "nest_li[3][1][1]:  Dangerously\n"
     ]
    }
   ],
   "source": [
    "print('list1[2]: ', list1[2])\n",
    "print('list2[5]: ', list2[5])\n",
    "print('list3[14]: ', list3[14])\n",
    "print('nest_li[5]: ', nest_li[5])\n",
    "print('nest_li[5][1]: ', nest_li[5][1])\n",
    "print('nest_li[3][1][1]: ', nest_li[3][1][1])"
   ]
  },
  {
   "cell_type": "markdown",
   "metadata": {},
   "source": [
    "## Slicing"
   ]
  },
  {
   "cell_type": "code",
   "execution_count": 37,
   "metadata": {},
   "outputs": [
    {
     "name": "stdout",
     "output_type": "stream",
     "text": [
      "List A :  [41, 45, 89, 82, 'dg', 'kjh', 'gfhgf', '45h', '4hk', 54]\n",
      "len(A):  10\n"
     ]
    }
   ],
   "source": [
    "A = [41, 45, 89, 82, 'dg', 'kjh', 'gfhgf', '45h', '4hk', 54]\n",
    "print(\"List A : \", A)\n",
    "print('len(A): ', len(A))"
   ]
  },
  {
   "cell_type": "code",
   "execution_count": 38,
   "metadata": {},
   "outputs": [
    {
     "name": "stdout",
     "output_type": "stream",
     "text": [
      "A[3 : 8] -  [82, 'dg', 'kjh', 'gfhgf', '45h']\n",
      "A[ : 5] -  [41, 45, 89, 82, 'dg']\n",
      "A[6 : ] -  ['gfhgf', '45h', '4hk', 54]\n",
      "A[4 : len(A)] -  ['dg', 'kjh', 'gfhgf', '45h', '4hk', 54]\n",
      "A[3 : 20] -  [82, 'dg', 'kjh', 'gfhgf', '45h', '4hk', 54]\n",
      "A[-4 : ] -  ['gfhgf', '45h', '4hk', 54]\n",
      "A[-2 : -6 : -1] -  ['4hk', '45h', 'gfhgf', 'kjh']\n",
      "A[-1 : -5] -  []\n",
      "A [-8 : -1 : -1] -  []\n",
      "A[-1 : -8 : -1] -  [54, '4hk', '45h', 'gfhgf', 'kjh', 'dg', 82]\n"
     ]
    }
   ],
   "source": [
    "print('A[3 : 8] - ' , A[3 : 8]) \n",
    "print('A[ : 5] - ', A[ : 5])\n",
    "print('A[6 : ] - ', A[6 : ])\n",
    "print('A[4 : len(A)] - ' , A[4 : len(A)])\n",
    "print('A[3 : 20] - ' , A[3 : 20])\n",
    "\n",
    "print('A[-4 : ] - ' , A[-4 : ])\n",
    "print('A[-2 : -6 : -1] - ' , A[-2 : -6 : -1])\n",
    "print('A[-1 : -5] - ', A[-1 : -5])\n",
    "print('A [-8 : -1 : -1] - ' , A [-8 : -1 : -1])\n",
    "print('A[-1 : -8 : -1] - ', A[-1 : -8 : -1])"
   ]
  },
  {
   "cell_type": "markdown",
   "metadata": {},
   "source": [
    "### Lists Mutability"
   ]
  },
  {
   "cell_type": "code",
   "execution_count": 39,
   "metadata": {},
   "outputs": [
    {
     "name": "stdout",
     "output_type": "stream",
     "text": [
      "Orignal List: \n",
      " [41, 45, 89, 82, 'dg', 'kjh', 'gfhgf', '45h', '4hk', 54]\n",
      "ID of original list:  2143850683400\n",
      "After changing A[3] to 100 : \n",
      " [41, 45, 89, 100, 'dg', 'kjh', 'gfhgf', '45h', '4hk', 54]\n",
      "ID of list after change:  2143850683400\n"
     ]
    }
   ],
   "source": [
    "print('Orignal List: \\n', A)\n",
    "print('ID of original list: ', id(A))\n",
    "A[3] = 100\n",
    "print('After changing A[3] to 100 : \\n', A)\n",
    "print('ID of list after change: ', id(A))"
   ]
  },
  {
   "cell_type": "markdown",
   "metadata": {},
   "source": [
    "## Adding Elements to the list"
   ]
  },
  {
   "cell_type": "markdown",
   "metadata": {},
   "source": [
    "### append() function\n",
    "- Syntax\n",
    "        \n",
    "        list_name.append(element)\n",
    "- appends the specified element at the last index of the list\n",
    "- takes one parameter to be added\n",
    "- could be one element or one nested list"
   ]
  },
  {
   "cell_type": "code",
   "execution_count": 40,
   "metadata": {},
   "outputs": [
    {
     "name": "stdout",
     "output_type": "stream",
     "text": [
      "Original List: \n",
      " [41, 45, 89, 100, 'dg', 'kjh', 'gfhgf', '45h', '4hk', 54]\n",
      "Length of original list:  10\n",
      "After A.append('cat12'): \n",
      " [41, 45, 89, 100, 'dg', 'kjh', 'gfhgf', '45h', '4hk', 54, 'cat12']\n",
      "Length of list, now:  11\n",
      "After A.append([3, 6, 'Multiple']: \n",
      " [41, 45, 89, 100, 'dg', 'kjh', 'gfhgf', '45h', '4hk', 54, 'cat12', [3, 6, 'Multiple']]\n",
      "Length of list, now:  12\n"
     ]
    }
   ],
   "source": [
    "print(\"Original List: \\n\" , A)\n",
    "print('Length of original list: ', len(A))\n",
    "A.append('cat12')\n",
    "print(\"After A.append('cat12'): \\n\" , A)\n",
    "print('Length of list, now: ', len(A))\n",
    "A.append([3, 6, 'Multiple'])\n",
    "print(\"After A.append([3, 6, 'Multiple']: \\n\", A)\n",
    "print('Length of list, now: ', len(A))"
   ]
  },
  {
   "cell_type": "code",
   "execution_count": 41,
   "metadata": {},
   "outputs": [
    {
     "ename": "TypeError",
     "evalue": "append() takes exactly one argument (2 given)",
     "output_type": "error",
     "traceback": [
      "\u001b[1;31m---------------------------------------------------------------------------\u001b[0m",
      "\u001b[1;31mTypeError\u001b[0m                                 Traceback (most recent call last)",
      "\u001b[1;32m<ipython-input-41-c5093f392f2b>\u001b[0m in \u001b[0;36m<module>\u001b[1;34m\u001b[0m\n\u001b[1;32m----> 1\u001b[1;33m \u001b[0mA\u001b[0m\u001b[1;33m.\u001b[0m\u001b[0mappend\u001b[0m\u001b[1;33m(\u001b[0m\u001b[1;34m'rabbit'\u001b[0m\u001b[1;33m,\u001b[0m\u001b[1;34m'ball'\u001b[0m\u001b[1;33m)\u001b[0m\u001b[1;33m\u001b[0m\u001b[1;33m\u001b[0m\u001b[0m\n\u001b[0m",
      "\u001b[1;31mTypeError\u001b[0m: append() takes exactly one argument (2 given)"
     ]
    }
   ],
   "source": [
    "A.append('rabbit','ball')"
   ]
  },
  {
   "cell_type": "markdown",
   "metadata": {},
   "source": [
    "### extend() function\n",
    "- Syntax\n",
    "\n",
    "       List_name.extend([element1, element2, ..., element n])\n",
    "- extends the list with the specified elements at the last index"
   ]
  },
  {
   "cell_type": "code",
   "execution_count": 42,
   "metadata": {},
   "outputs": [
    {
     "name": "stdout",
     "output_type": "stream",
     "text": [
      "Original List: \n",
      " [41, 45, 89, 100, 'dg', 'kjh', 'gfhgf', '45h', '4hk', 54, 'cat12', [3, 6, 'Multiple']]\n",
      "Length of list, now:  12\n",
      "After A.extend(['rabbit','ball']: \n",
      " [41, 45, 89, 100, 'dg', 'kjh', 'gfhgf', '45h', '4hk', 54, 'cat12', [3, 6, 'Multiple'], 'rabbit', 'ball']\n",
      "Length of list, now:  14\n"
     ]
    }
   ],
   "source": [
    "print(\"Original List: \\n\" , A)\n",
    "print('Length of list, now: ', len(A))\n",
    "A.extend(['rabbit','ball'])\n",
    "print('After A.extend([\\'rabbit\\',\\'ball\\']: \\n' , A )\n",
    "print('Length of list, now: ', len(A))"
   ]
  },
  {
   "cell_type": "markdown",
   "metadata": {},
   "source": [
    "### insert() function\n",
    "- Syntax\n",
    "   \n",
    "      List_name.insert(index, element)\n",
    "- inserts the specified element at the particular index and shifts all the other elements at the successive index values "
   ]
  },
  {
   "cell_type": "code",
   "execution_count": 43,
   "metadata": {},
   "outputs": [
    {
     "name": "stdout",
     "output_type": "stream",
     "text": [
      "Original List: \n",
      " [41, 45, 89, 100, 'dg', 'kjh', 'gfhgf', '45h', '4hk', 54, 'cat12', [3, 6, 'Multiple'], 'rabbit', 'ball']\n",
      "After A.insert(3,\"apple\"): \n",
      " [41, 45, 89, 'apple', 100, 'dg', 'kjh', 'gfhgf', '45h', '4hk', 54, 'cat12', [3, 6, 'Multiple'], 'rabbit', 'ball']\n"
     ]
    }
   ],
   "source": [
    "print(\"Original List: \\n\" , A)\n",
    "A.insert(3,\"apple\")\n",
    "print('After A.insert(3,\"apple\"): \\n' , A )"
   ]
  },
  {
   "cell_type": "code",
   "execution_count": 44,
   "metadata": {},
   "outputs": [
    {
     "name": "stdout",
     "output_type": "stream",
     "text": [
      "Original List: \n",
      " [41, 45, 89, 'apple', 100, 'dg', 'kjh', 'gfhgf', '45h', '4hk', 54, 'cat12', [3, 6, 'Multiple'], 'rabbit', 'ball']\n",
      "After A.insert(7,['Dog','puppy']): \n",
      " [41, 45, 89, 'apple', 100, 'dg', 'kjh', ['Dog', 'puppy'], 'gfhgf', '45h', '4hk', 54, 'cat12', [3, 6, 'Multiple'], 'rabbit', 'ball']\n"
     ]
    }
   ],
   "source": [
    "# inserting a nested list as one element\n",
    "print(\"Original List: \\n\" , A)\n",
    "A.insert(7,['Dog','puppy'])\n",
    "print(\"After A.insert(7,['Dog','puppy']): \\n\" , A )"
   ]
  },
  {
   "cell_type": "markdown",
   "metadata": {},
   "source": [
    "# Deleting Elements from list"
   ]
  },
  {
   "cell_type": "markdown",
   "metadata": {},
   "source": [
    "### remove() function\n",
    "- Syntax\n",
    " \n",
    "     list_name.remove(element)\n",
    "- Removes the specified element from the list"
   ]
  },
  {
   "cell_type": "code",
   "execution_count": 45,
   "metadata": {
    "collapsed": true
   },
   "outputs": [
    {
     "name": "stdout",
     "output_type": "stream",
     "text": [
      "Original List: \n",
      " [41, 45, 89, 'apple', 100, 'dg', 'kjh', ['Dog', 'puppy'], 'gfhgf', '45h', '4hk', 54, 'cat12', [3, 6, 'Multiple'], 'rabbit', 'ball']\n",
      "\n",
      " After A.remove(100): \n",
      " [41, 45, 89, 'apple', 'dg', 'kjh', ['Dog', 'puppy'], 'gfhgf', '45h', '4hk', 54, 'cat12', [3, 6, 'Multiple'], 'rabbit', 'ball']\n",
      "\n",
      " After A.remove(['Dog' , 'puppy']): \n",
      " [41, 45, 89, 'apple', 'dg', 'kjh', 'gfhgf', '45h', '4hk', 54, 'cat12', [3, 6, 'Multiple'], 'rabbit', 'ball']\n"
     ]
    }
   ],
   "source": [
    "print(\"Original List: \\n\" , A)\n",
    "A.remove(100)\n",
    "print(\"\\n After A.remove(100): \\n\" , A )\n",
    "A.remove(['Dog' , 'puppy'])\n",
    "print(\"\\n After A.remove(['Dog' , 'puppy']): \\n\" , A )"
   ]
  },
  {
   "cell_type": "markdown",
   "metadata": {},
   "source": [
    "### pop() function\n",
    "- Syntax\n",
    "\n",
    "      list_name.pop(index = optional)\n",
    "- by default, it will remove the element at the last index, like in a stack\n",
    "- pop() function gives the popped element as the output which can also be stored in some variable for further use."
   ]
  },
  {
   "cell_type": "code",
   "execution_count": 47,
   "metadata": {
    "collapsed": true
   },
   "outputs": [
    {
     "name": "stdout",
     "output_type": "stream",
     "text": [
      "Original List: \n",
      " [41, 45, 89, 'apple', 'dg', 'kjh', 'gfhgf', '45h', '4hk', 54, 'cat12', [3, 6, 'Multiple'], 'rabbit']\n",
      "\n",
      " After A.pop(): \n",
      " [41, 45, 89, 'apple', 'dg', 'kjh', 'gfhgf', '45h', '4hk', 54, 'cat12', [3, 6, 'Multiple']]\n"
     ]
    },
    {
     "data": {
      "text/plain": [
       "[3, 6, 'Multiple']"
      ]
     },
     "execution_count": 47,
     "metadata": {},
     "output_type": "execute_result"
    }
   ],
   "source": [
    "print(\"Original List: \\n\" , A)\n",
    "A.pop()\n",
    "print(\"\\n After A.pop(): \\n\" , A )\n",
    "A.pop()"
   ]
  },
  {
   "cell_type": "code",
   "execution_count": 82,
   "metadata": {},
   "outputs": [
    {
     "name": "stdout",
     "output_type": "stream",
     "text": [
      "popped_value:  4hk\n"
     ]
    }
   ],
   "source": [
    "popped_value = A.pop(7)\n",
    "print('popped_value: ', popped_value)"
   ]
  },
  {
   "cell_type": "code",
   "execution_count": null,
   "metadata": {},
   "outputs": [],
   "source": [
    "# using the popped value again to insert in the list\n",
    "A.append(popped_value)"
   ]
  },
  {
   "cell_type": "markdown",
   "metadata": {},
   "source": [
    "### del function\n",
    "- Syntax \n",
    "\n",
    "      del list_name[index]\n",
    "- deletes the elements of the specified index\n",
    "- useful to delete a slice of the list\n",
    "- can also delete the instance of the list"
   ]
  },
  {
   "cell_type": "code",
   "execution_count": 28,
   "metadata": {},
   "outputs": [
    {
     "name": "stdout",
     "output_type": "stream",
     "text": [
      "['ball', 'rabbit', [3, 6, 'Multiple'], 54, '4hk', '45h', 100]\n",
      "['ball', 'rabbit', [3, 6, 'Multiple'], '4hk', '45h', 100]\n"
     ]
    }
   ],
   "source": [
    "print('List: ', A)\n",
    "del A[3]\n",
    "print('\\n After del A[3]: \\n', A)\n",
    "\n",
    "del A[3 : 5]\n",
    "print('\\n After del A[3 : 5]: \\n', A)"
   ]
  },
  {
   "cell_type": "code",
   "execution_count": 31,
   "metadata": {
    "collapsed": true
   },
   "outputs": [
    {
     "ename": "NameError",
     "evalue": "name 'A' is not defined",
     "output_type": "error",
     "traceback": [
      "\u001b[1;31m---------------------------------------------------------------------------\u001b[0m",
      "\u001b[1;31mNameError\u001b[0m                                 Traceback (most recent call last)",
      "\u001b[1;32m<ipython-input-31-0d96480678a4>\u001b[0m in \u001b[0;36m<module>\u001b[1;34m\u001b[0m\n\u001b[1;32m----> 1\u001b[1;33m \u001b[1;32mdel\u001b[0m \u001b[0mA\u001b[0m\u001b[1;33m\u001b[0m\u001b[1;33m\u001b[0m\u001b[0m\n\u001b[0m\u001b[0;32m      2\u001b[0m \u001b[0mprint\u001b[0m\u001b[1;33m(\u001b[0m\u001b[0mA\u001b[0m\u001b[1;33m)\u001b[0m\u001b[1;33m\u001b[0m\u001b[1;33m\u001b[0m\u001b[0m\n",
      "\u001b[1;31mNameError\u001b[0m: name 'A' is not defined"
     ]
    }
   ],
   "source": [
    "del A\n",
    "print(A)"
   ]
  },
  {
   "cell_type": "markdown",
   "metadata": {},
   "source": [
    "## Sorting"
   ]
  },
  {
   "cell_type": "code",
   "execution_count": 32,
   "metadata": {
    "collapsed": true
   },
   "outputs": [
    {
     "ename": "TypeError",
     "evalue": "'<' not supported between instances of 'str' and 'int'",
     "output_type": "error",
     "traceback": [
      "\u001b[1;31m---------------------------------------------------------------------------\u001b[0m",
      "\u001b[1;31mTypeError\u001b[0m                                 Traceback (most recent call last)",
      "\u001b[1;32m<ipython-input-32-f7b0a726fb21>\u001b[0m in \u001b[0;36m<module>\u001b[1;34m\u001b[0m\n\u001b[0;32m      1\u001b[0m \u001b[1;31m#Sorting\u001b[0m\u001b[1;33m\u001b[0m\u001b[1;33m\u001b[0m\u001b[1;33m\u001b[0m\u001b[0m\n\u001b[0;32m      2\u001b[0m \u001b[0mA\u001b[0m \u001b[1;33m=\u001b[0m \u001b[1;33m[\u001b[0m\u001b[1;36m41\u001b[0m\u001b[1;33m,\u001b[0m \u001b[1;36m45\u001b[0m\u001b[1;33m,\u001b[0m \u001b[1;36m89\u001b[0m\u001b[1;33m,\u001b[0m \u001b[1;36m82\u001b[0m\u001b[1;33m,\u001b[0m \u001b[1;34m'dg'\u001b[0m\u001b[1;33m,\u001b[0m \u001b[1;34m'kjh'\u001b[0m\u001b[1;33m,\u001b[0m \u001b[1;34m'gfhgf'\u001b[0m\u001b[1;33m,\u001b[0m \u001b[1;34m'45h'\u001b[0m\u001b[1;33m,\u001b[0m \u001b[1;34m'4hk'\u001b[0m\u001b[1;33m,\u001b[0m \u001b[1;36m54\u001b[0m\u001b[1;33m]\u001b[0m\u001b[1;33m\u001b[0m\u001b[1;33m\u001b[0m\u001b[0m\n\u001b[1;32m----> 3\u001b[1;33m \u001b[0mA\u001b[0m\u001b[1;33m.\u001b[0m\u001b[0msort\u001b[0m\u001b[1;33m(\u001b[0m\u001b[1;33m)\u001b[0m\u001b[1;33m\u001b[0m\u001b[1;33m\u001b[0m\u001b[0m\n\u001b[0m",
      "\u001b[1;31mTypeError\u001b[0m: '<' not supported between instances of 'str' and 'int'"
     ]
    }
   ],
   "source": [
    "A = [41, 45, 89, 82, 'dg', 'kjh', 'gfhgf', '45h', '4hk', 54]\n",
    "A.sort()"
   ]
  },
  {
   "cell_type": "markdown",
   "metadata": {},
   "source": [
    "##### using sort() function"
   ]
  },
  {
   "cell_type": "code",
   "execution_count": 37,
   "metadata": {
    "collapsed": true
   },
   "outputs": [
    {
     "name": "stdout",
     "output_type": "stream",
     "text": [
      "Original List:  [12, 3, 40, 590, 454, 89, 7678]\n",
      "id(L):  1108954957768\n",
      "List after sort():  [3, 12, 40, 89, 454, 590, 7678]\n",
      "id(L) after sort() :  1108954957768\n"
     ]
    }
   ],
   "source": [
    "L = [12,3,40, 590, 454, 89, 7678]\n",
    "print(\"Original List: \", L)\n",
    "print(\"id(L): \", id(L))\n",
    "L.sort()\n",
    "print(\"List after sort(): \", L)\n",
    "print(\"id(L) after sort() : \", id(L))"
   ]
  },
  {
   "cell_type": "code",
   "execution_count": 41,
   "metadata": {
    "collapsed": true
   },
   "outputs": [
    {
     "name": "stdout",
     "output_type": "stream",
     "text": [
      "Original List:  [12, 3, 40, 590, 454, 89, 7678]\n",
      "id(L):  1108955622344\n",
      "List after sort(reverse = True):  [7678, 590, 454, 89, 40, 12, 3]\n",
      "id(L) after sort:  1108955622344\n"
     ]
    }
   ],
   "source": [
    "L = [12,3,40, 590, 454, 89, 7678]\n",
    "print(\"Original List: \", L)\n",
    "L.sort(reverse = True)\n",
    "print(\"id(L): \", id(L))\n",
    "print(\"\\nList after sort(reverse = True): \", L)\n",
    "print(\"id(L) after sort: \", id(L))"
   ]
  },
  {
   "cell_type": "markdown",
   "metadata": {},
   "source": [
    "##### using sorted() function"
   ]
  },
  {
   "cell_type": "code",
   "execution_count": 40,
   "metadata": {
    "collapsed": true
   },
   "outputs": [
    {
     "name": "stdout",
     "output_type": "stream",
     "text": [
      "Original List:  [12, 3, 40, 590, 454, 89, 7678]\n",
      "id(L):  1108953671304\n",
      "sorted(L):  [3, 12, 40, 89, 454, 590, 7678]\n",
      "id(sorted(L)):  1108955428872\n",
      "List after sorted(L):  [12, 3, 40, 590, 454, 89, 7678]\n",
      "id(L) after sorted(L):  1108953671304\n"
     ]
    }
   ],
   "source": [
    "L = [12,3,40, 590, 454, 89, 7678]\n",
    "print(\"Original List: \", L)\n",
    "print(\"id(L): \", id(L))\n",
    "print(\"sorted(L): \", sorted(L))\n",
    "print(\"id(sorted(L)): \", id(sorted(L)))\n",
    "print(\"\\nList after sorted(L): \", L)\n",
    "print(\"id(L) after sorted(L): \", id(L))"
   ]
  },
  {
   "cell_type": "code",
   "execution_count": 42,
   "metadata": {},
   "outputs": [
    {
     "name": "stdout",
     "output_type": "stream",
     "text": [
      "['a', 'u', 'd', 'g', 'o', 'c', 'm', 'q']\n"
     ]
    }
   ],
   "source": [
    "alphabets = ['a', 'u', 'd' , 'g' , 'o' , 'c' , 'm' , 'q']\n",
    "print(\"List is : \\n\", alphabets)\n",
    "print(\"\\nSorted list : \\n\", sorted(alphabets)\n",
    "print(\"\\nList is : \\n\", alphabets)"
   ]
  },
  {
   "cell_type": "code",
   "execution_count": 21,
   "metadata": {},
   "outputs": [
    {
     "name": "stdout",
     "output_type": "stream",
     "text": [
      "['a', 'c', 'd', 'g', 'm', 'o', 'q', 'u']\n",
      "['u', 'q', 'o', 'm', 'g', 'd', 'c', 'a']\n"
     ]
    }
   ],
   "source": [
    "(alphabets.sort())\n",
    "print(alphabets)\n",
    "(alphabets.sort(reverse = True))\n",
    "print(alphabets)"
   ]
  },
  {
   "cell_type": "code",
   "execution_count": 27,
   "metadata": {},
   "outputs": [
    {
     "data": {
      "text/plain": [
       "['mine', 'my', 'our', 'us', 'you', 'your']"
      ]
     },
     "execution_count": 27,
     "metadata": {},
     "output_type": "execute_result"
    }
   ],
   "source": [
    "# Sorting of strings takes place in lexographically(dictionary format)\n",
    "str = [\"my\", \"mine\", \"you\", \"your\", \"us\", \"our\"]\n",
    "str.sort()\n",
    "str"
   ]
  },
  {
   "cell_type": "markdown",
   "metadata": {},
   "source": [
    "###### Priority for ascending order on the basis of first character:\n",
    "- numbers < capital letters < small letters"
   ]
  },
  {
   "cell_type": "code",
   "execution_count": 46,
   "metadata": {},
   "outputs": [
    {
     "data": {
      "text/plain": [
       "['$D', '1my', '@w', 'A', 'You', 'mine3', 'ou2r', 'us', 'your']"
      ]
     },
     "execution_count": 46,
     "metadata": {},
     "output_type": "execute_result"
    }
   ],
   "source": [
    "str_num = [\"1my\",\"A\" ,\"mine3\",'$D', '@w' ,\"You\", \"your\", \"us\", \"ou2r\"]\n",
    "str_num.sort()\n",
    "str_num"
   ]
  },
  {
   "cell_type": "code",
   "execution_count": 47,
   "metadata": {},
   "outputs": [
    {
     "data": {
      "text/plain": [
       "7"
      ]
     },
     "execution_count": 47,
     "metadata": {},
     "output_type": "execute_result"
    }
   ],
   "source": [
    "str_num.index('us')"
   ]
  },
  {
   "cell_type": "code",
   "execution_count": 48,
   "metadata": {},
   "outputs": [],
   "source": [
    "str_num.clear()"
   ]
  },
  {
   "cell_type": "code",
   "execution_count": 49,
   "metadata": {},
   "outputs": [
    {
     "data": {
      "text/plain": [
       "[]"
      ]
     },
     "execution_count": 49,
     "metadata": {},
     "output_type": "execute_result"
    }
   ],
   "source": [
    "str_num"
   ]
  },
  {
   "cell_type": "code",
   "execution_count": 50,
   "metadata": {},
   "outputs": [
    {
     "data": {
      "text/plain": [
       "['1my', 'A', 'mine3', '$D', '@w', 'You', 'your', 'us', 'ou2r']"
      ]
     },
     "execution_count": 50,
     "metadata": {},
     "output_type": "execute_result"
    }
   ],
   "source": [
    "#Copy\n",
    "str_num = [\"1my\",\"A\" ,\"mine3\",'$D', '@w' ,\"You\", \"your\", \"us\", \"ou2r\"]\n",
    "str_num1 = str_num\n",
    "str_num1"
   ]
  },
  {
   "cell_type": "code",
   "execution_count": 42,
   "metadata": {},
   "outputs": [
    {
     "data": {
      "text/plain": [
       "['1my', 'A', 'yours', 'mine3', 'ou2r', 'us', 'your']"
      ]
     },
     "execution_count": 42,
     "metadata": {},
     "output_type": "execute_result"
    }
   ],
   "source": [
    "str_num[2] = 'yours'\n",
    "str_num"
   ]
  },
  {
   "cell_type": "code",
   "execution_count": 12,
   "metadata": {},
   "outputs": [
    {
     "data": {
      "text/plain": [
       "['1my', 'A', 'yours', 'mine3', 'ou2r', 'us', 'your']"
      ]
     },
     "execution_count": 12,
     "metadata": {},
     "output_type": "execute_result"
    }
   ],
   "source": [
    "str_num1"
   ]
  },
  {
   "cell_type": "code",
   "execution_count": 13,
   "metadata": {},
   "outputs": [],
   "source": [
    "str_num2 = str_num.copy()"
   ]
  },
  {
   "cell_type": "code",
   "execution_count": 14,
   "metadata": {},
   "outputs": [
    {
     "data": {
      "text/plain": [
       "['1my', 'A', 'yours', 'mine3', 'ou2r', 'us', 'your']"
      ]
     },
     "execution_count": 14,
     "metadata": {},
     "output_type": "execute_result"
    }
   ],
   "source": [
    "str_num2"
   ]
  },
  {
   "cell_type": "code",
   "execution_count": 15,
   "metadata": {},
   "outputs": [
    {
     "data": {
      "text/plain": [
       "['1my', 'ABC', 'yours', 'mine3', 'ou2r', 'us', 'your']"
      ]
     },
     "execution_count": 15,
     "metadata": {},
     "output_type": "execute_result"
    }
   ],
   "source": [
    "str_num[1] = 'ABC'\n",
    "str_num"
   ]
  },
  {
   "cell_type": "code",
   "execution_count": 16,
   "metadata": {},
   "outputs": [
    {
     "data": {
      "text/plain": [
       "['1my', 'A', 'yours', 'mine3', 'ou2r', 'us', 'your']"
      ]
     },
     "execution_count": 16,
     "metadata": {},
     "output_type": "execute_result"
    }
   ],
   "source": [
    "str_num2"
   ]
  },
  {
   "cell_type": "raw",
   "metadata": {},
   "source": [
    "Operators : + and *"
   ]
  },
  {
   "cell_type": "code",
   "execution_count": 33,
   "metadata": {
    "collapsed": true
   },
   "outputs": [
    {
     "name": "stdout",
     "output_type": "stream",
     "text": [
      "[1, 2, 3, 4, 4, 5, 6]\n",
      "[1, 2, 3, 4]\n",
      "[1, 2, 3, 4, 1, 2, 3, 4, 1, 2, 3, 4]\n"
     ]
    }
   ],
   "source": [
    "a = [1,2,3,4]\n",
    "print(a + [4,5,6])\n",
    "print(a)\n",
    "print(a * 3)"
   ]
  },
  {
   "cell_type": "markdown",
   "metadata": {},
   "source": [
    "## Built-in functions\n",
    "...continued"
   ]
  },
  {
   "cell_type": "code",
   "execution_count": null,
   "metadata": {},
   "outputs": [],
   "source": []
  }
 ],
 "metadata": {
  "kernelspec": {
   "display_name": "Python 3",
   "language": "python",
   "name": "python3"
  },
  "language_info": {
   "codemirror_mode": {
    "name": "ipython",
    "version": 3
   },
   "file_extension": ".py",
   "mimetype": "text/x-python",
   "name": "python",
   "nbconvert_exporter": "python",
   "pygments_lexer": "ipython3",
   "version": "3.7.3"
  }
 },
 "nbformat": 4,
 "nbformat_minor": 2
}
