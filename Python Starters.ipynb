{
 "cells": [
  {
   "cell_type": "code",
   "execution_count": 1,
   "metadata": {},
   "outputs": [
    {
     "name": "stdout",
     "output_type": "stream",
     "text": [
      "Hello World\n"
     ]
    }
   ],
   "source": [
    "print(\"Hello World\")"
   ]
  },
  {
   "cell_type": "markdown",
   "metadata": {},
   "source": [
    "# Variables and Keywords"
   ]
  },
  {
   "cell_type": "raw",
   "metadata": {},
   "source": [
    "Rules for defining a variable:\n",
    " - all aphabets are valid\n",
    " - no special characters except an underscore(_) are allowed\n",
    " - no spaces are allowed\n",
    " - numeric values should be followed only after an alphabet or an underscore"
   ]
  },
  {
   "cell_type": "code",
   "execution_count": 12,
   "metadata": {},
   "outputs": [
    {
     "name": "stdout",
     "output_type": "stream",
     "text": [
      "6\n"
     ]
    }
   ],
   "source": [
    "_g = 6\n",
    "ab_ = 7\n",
    "a_b = 2\n",
    "#y$ = 4\n",
    "# a@ = 0\n",
    "listname = 6\n",
    "a1 = 9\n",
    "#1a = 9\n",
    "a_1 = 8\n",
    "_1 = 6\n",
    "print(_1)\n",
    "_1\n"
   ]
  },
  {
   "cell_type": "markdown",
   "metadata": {},
   "source": [
    "<img src=\"Keywords.png\">"
   ]
  },
  {
   "cell_type": "markdown",
   "metadata": {},
   "source": [
    "# Comments and Statements"
   ]
  },
  {
   "cell_type": "markdown",
   "metadata": {},
   "source": [
    "# Markdown\n"
   ]
  },
  {
   "cell_type": "code",
   "execution_count": 80,
   "metadata": {},
   "outputs": [
    {
     "data": {
      "text/plain": [
       "\"Explanation -\\nadding 2 and 3 using '+' operator\""
      ]
     },
     "execution_count": 80,
     "metadata": {},
     "output_type": "execute_result"
    }
   ],
   "source": [
    "# This is a comment\n",
    "2 + 3 # Explanation - adding 2 and 3 using '+' operator \n",
    "\n",
    "'''Explanation -\n",
    "adding 2 and 3 using '+' operator'''"
   ]
  },
  {
   "cell_type": "raw",
   "metadata": {},
   "source": [
    "Multiline Statements\n",
    "In Python, end of a statement is marked by a newline character. \n",
    "But we can make a statement extend over multiple lines with the line continuation character (\\)"
   ]
  },
  {
   "cell_type": "code",
   "execution_count": 14,
   "metadata": {},
   "outputs": [
    {
     "data": {
      "text/plain": [
       "18"
      ]
     },
     "execution_count": 14,
     "metadata": {},
     "output_type": "execute_result"
    }
   ],
   "source": [
    "a = 3+ 4+ \\\n",
    "      5+ 6\n",
    "a"
   ]
  },
  {
   "cell_type": "code",
   "execution_count": 15,
   "metadata": {},
   "outputs": [
    {
     "name": "stdout",
     "output_type": "stream",
     "text": [
      "18 {18} [18]\n"
     ]
    }
   ],
   "source": [
    "# any type of braces would do\n",
    "a = ( 3+ 4 +\n",
    "    5+ 6)\n",
    "b = { 3+ 4 +\n",
    "    5+ 6}\n",
    "c = [ 3+ 4 +\n",
    "    5+ 6]\n",
    "print(a , b , c)"
   ]
  },
  {
   "cell_type": "code",
   "execution_count": 5,
   "metadata": {},
   "outputs": [
    {
     "name": "stdout",
     "output_type": "stream",
     "text": [
      "7 11\n"
     ]
    }
   ],
   "source": [
    "a =3+4 ; b = 5 + 6\n",
    "print(a, b)"
   ]
  },
  {
   "cell_type": "markdown",
   "metadata": {},
   "source": [
    "## Types of Operators"
   ]
  },
  {
   "cell_type": "raw",
   "metadata": {},
   "source": [
    " -> Arithmetic : + , - , * , / , % , // , **\n",
    " -> Logical : and , or , not\n",
    " -> Relational : == , != , > , < , >= , <= \n",
    " -> Assignment : = , += , -= , *= , /=\n",
    " -> Bitwise : >> , << , & , | , ~"
   ]
  },
  {
   "cell_type": "markdown",
   "metadata": {},
   "source": [
    "### Arithmetic Operators"
   ]
  },
  {
   "cell_type": "code",
   "execution_count": 2,
   "metadata": {},
   "outputs": [
    {
     "name": "stdout",
     "output_type": "stream",
     "text": [
      "5\n",
      "16\n"
     ]
    }
   ],
   "source": [
    "print(2 + 3)\n",
    "x = 9\n",
    "y = 7\n",
    "print(x + y)"
   ]
  },
  {
   "cell_type": "code",
   "execution_count": 3,
   "metadata": {},
   "outputs": [
    {
     "name": "stdout",
     "output_type": "stream",
     "text": [
      "5\n"
     ]
    },
    {
     "data": {
      "text/plain": [
       "5"
      ]
     },
     "execution_count": 3,
     "metadata": {},
     "output_type": "execute_result"
    }
   ],
   "source": [
    "a = 5\n",
    "a\n",
    "print(a)\n",
    "a"
   ]
  },
  {
   "cell_type": "code",
   "execution_count": 3,
   "metadata": {
    "collapsed": true
   },
   "outputs": [
    {
     "name": "stdout",
     "output_type": "stream",
     "text": [
      "-1\n",
      "2\n"
     ]
    }
   ],
   "source": [
    "print(2 - 3)\n",
    "x = 9\n",
    "y = 7\n",
    "print(x - y)"
   ]
  },
  {
   "cell_type": "code",
   "execution_count": 4,
   "metadata": {
    "collapsed": true
   },
   "outputs": [
    {
     "name": "stdout",
     "output_type": "stream",
     "text": [
      "6\n",
      "-63\n"
     ]
    }
   ],
   "source": [
    "print(2 * 3)\n",
    "x = -9\n",
    "y = 7\n",
    "print(x * y)"
   ]
  },
  {
   "cell_type": "code",
   "execution_count": 5,
   "metadata": {
    "collapsed": true
   },
   "outputs": [
    {
     "name": "stdout",
     "output_type": "stream",
     "text": [
      "0.6666666666666666\n",
      "1.2857142857142858\n"
     ]
    }
   ],
   "source": [
    "print(2 / 3)\n",
    "x = 9\n",
    "y = 7\n",
    "print(x / y)"
   ]
  },
  {
   "cell_type": "code",
   "execution_count": 7,
   "metadata": {},
   "outputs": [
    {
     "name": "stdout",
     "output_type": "stream",
     "text": [
      "8\n",
      "-729\n"
     ]
    }
   ],
   "source": [
    "print(2 ** 3)\n",
    "x = -9\n",
    "y = 3\n",
    "print(x ** y)"
   ]
  },
  {
   "cell_type": "code",
   "execution_count": 9,
   "metadata": {
    "collapsed": true
   },
   "outputs": [
    {
     "name": "stdout",
     "output_type": "stream",
     "text": [
      "2\n",
      "2\n"
     ]
    }
   ],
   "source": [
    "print(2 % 3)\n",
    "x = 9\n",
    "y = 7\n",
    "print(x % y)"
   ]
  },
  {
   "cell_type": "code",
   "execution_count": 1,
   "metadata": {},
   "outputs": [
    {
     "name": "stdout",
     "output_type": "stream",
     "text": [
      "1\n",
      "1.0\n",
      "3.0\n"
     ]
    }
   ],
   "source": [
    "# Floor Division\n",
    "print(9//8)\n",
    "print(5.0 // 3)\n",
    "print(9.25 // 3)"
   ]
  },
  {
   "cell_type": "markdown",
   "metadata": {},
   "source": [
    "### Logical opeartors"
   ]
  },
  {
   "cell_type": "code",
   "execution_count": 18,
   "metadata": {},
   "outputs": [
    {
     "name": "stdout",
     "output_type": "stream",
     "text": [
      "1\n",
      "True\n",
      "True\n",
      "5\n",
      "1\n"
     ]
    }
   ],
   "source": [
    "print(1 or 0)\n",
    "print(True or False)\n",
    "a = False\n",
    "b = True\n",
    "print(a or b)\n",
    "print(5 or 6)\n",
    "x = 1\n",
    "y = 0\n",
    "print(x or y)"
   ]
  },
  {
   "cell_type": "code",
   "execution_count": 2,
   "metadata": {},
   "outputs": [
    {
     "name": "stdout",
     "output_type": "stream",
     "text": [
      "0\n",
      "False\n",
      "False\n",
      "5\n",
      "0\n"
     ]
    }
   ],
   "source": [
    "print(1 and 0)\n",
    "print(True and False)\n",
    "a = False\n",
    "b = True\n",
    "print(a and b)\n",
    "print(6 and 5)\n",
    "x = 1\n",
    "y = 0\n",
    "print(x and y)"
   ]
  },
  {
   "cell_type": "code",
   "execution_count": 26,
   "metadata": {},
   "outputs": [
    {
     "name": "stdout",
     "output_type": "stream",
     "text": [
      "False\n",
      "True\n",
      "False\n",
      "False\n",
      "True\n"
     ]
    }
   ],
   "source": [
    "print(not 1)\n",
    "print(not False)\n",
    "a = False\n",
    "b = True\n",
    "print(not b)\n",
    "print(not 6576)\n",
    "x = 1\n",
    "y = 0\n",
    "print(not y)"
   ]
  },
  {
   "cell_type": "markdown",
   "metadata": {},
   "source": [
    "### Assignment Operators"
   ]
  },
  {
   "cell_type": "code",
   "execution_count": 3,
   "metadata": {
    "scrolled": true
   },
   "outputs": [
    {
     "name": "stdout",
     "output_type": "stream",
     "text": [
      "6\n",
      "14\n",
      "14\n",
      "6\n",
      "48\n",
      "6.0\n",
      "6.0\n"
     ]
    }
   ],
   "source": [
    "a = 6\n",
    "print(a)\n",
    "b = 8\n",
    "print(a + b)\n",
    "\n",
    "a += b\n",
    "print(a)\n",
    "\n",
    "a -= b\n",
    "print(a)\n",
    "\n",
    "a *= b\n",
    "print(a)\n",
    "\n",
    "a /= b\n",
    "print(a)\n",
    "\n",
    "a %= b\n",
    "print(a)"
   ]
  },
  {
   "cell_type": "markdown",
   "metadata": {},
   "source": [
    "### Bit-wise Operators"
   ]
  },
  {
   "cell_type": "code",
   "execution_count": 82,
   "metadata": {},
   "outputs": [
    {
     "name": "stdout",
     "output_type": "stream",
     "text": [
      "18693\n",
      "0\n",
      "0\n",
      "1102\n",
      "7\n",
      "111\n",
      "-6\n",
      "2\n",
      "10\n"
     ]
    }
   ],
   "source": [
    "print(1100101 & 1010101)\n",
    "print(5 & 2)\n",
    "print(101 & 10)\n",
    "\n",
    "print(1100 | 10)\n",
    "print(5 | 2)\n",
    "print(101 | 10)\n",
    "\n",
    "print(~5)\n",
    "\n",
    "print(5 >> 1)\n",
    "print(5 << 1)"
   ]
  },
  {
   "cell_type": "markdown",
   "metadata": {},
   "source": [
    "### Relational Operators"
   ]
  },
  {
   "cell_type": "code",
   "execution_count": 7,
   "metadata": {},
   "outputs": [
    {
     "name": "stdout",
     "output_type": "stream",
     "text": [
      "False\n",
      "False\n",
      "True\n",
      "False\n",
      "True\n",
      "True\n"
     ]
    }
   ],
   "source": [
    "print(3 == 2)\n",
    "print(3 < 2)\n",
    "print(3 > 2)\n",
    "print(3 <= 2)\n",
    "print(3 >= 2)\n",
    "print(3 != 2)"
   ]
  },
  {
   "cell_type": "code",
   "execution_count": 8,
   "metadata": {},
   "outputs": [
    {
     "name": "stdout",
     "output_type": "stream",
     "text": [
      "True\n",
      "False\n",
      "False\n",
      "True\n",
      "True\n",
      "False\n"
     ]
    }
   ],
   "source": [
    "a = 0\n",
    "b = 0\n",
    "print(a == b)\n",
    "print(a < b)\n",
    "print(a > b)\n",
    "print(a <= b)\n",
    "print(a >= b)\n",
    "print(a != b)"
   ]
  },
  {
   "cell_type": "markdown",
   "metadata": {},
   "source": [
    "#### Combining logical and relational operators"
   ]
  },
  {
   "cell_type": "code",
   "execution_count": 21,
   "metadata": {},
   "outputs": [
    {
     "name": "stdout",
     "output_type": "stream",
     "text": [
      "True\n"
     ]
    }
   ],
   "source": [
    "a = 5\n",
    "b = 9\n",
    "c = 8\n",
    "\n",
    "print(a<=b or b==c or a<=c and c==a or b>=a)"
   ]
  },
  {
   "cell_type": "markdown",
   "metadata": {},
   "source": [
    "#### Rule of Precedence"
   ]
  },
  {
   "cell_type": "markdown",
   "metadata": {},
   "source": [
    "Order of operations :> PEDMAS (Parenthesis, Exponentiation, Division and Multiplication, Addition and substraciton)"
   ]
  },
  {
   "cell_type": "markdown",
   "metadata": {},
   "source": [
    "## Print Operations"
   ]
  },
  {
   "cell_type": "code",
   "execution_count": 83,
   "metadata": {},
   "outputs": [
    {
     "data": {
      "text/plain": [
       "6"
      ]
     },
     "execution_count": 83,
     "metadata": {},
     "output_type": "execute_result"
    }
   ],
   "source": [
    "a = 6\n",
    "a"
   ]
  },
  {
   "cell_type": "code",
   "execution_count": 84,
   "metadata": {},
   "outputs": [
    {
     "name": "stdout",
     "output_type": "stream",
     "text": [
      "6\n"
     ]
    }
   ],
   "source": [
    "print(a)"
   ]
  },
  {
   "cell_type": "code",
   "execution_count": 85,
   "metadata": {},
   "outputs": [
    {
     "name": "stdout",
     "output_type": "stream",
     "text": [
      "6\n"
     ]
    },
    {
     "data": {
      "text/plain": [
       "6"
      ]
     },
     "execution_count": 85,
     "metadata": {},
     "output_type": "execute_result"
    }
   ],
   "source": [
    "a\n",
    "print(a)\n",
    "a"
   ]
  },
  {
   "cell_type": "markdown",
   "metadata": {},
   "source": [
    "<img src=\"Escape sequences.jpg\">"
   ]
  },
  {
   "cell_type": "code",
   "execution_count": 32,
   "metadata": {},
   "outputs": [
    {
     "name": "stdout",
     "output_type": "stream",
     "text": [
      "Apple\n",
      "Ball\n",
      "\n",
      "Apple\n",
      "Ball\n",
      "\n",
      "Apple\tBall\n"
     ]
    }
   ],
   "source": [
    "print(\"Apple\")\n",
    "print(\"Ball\")\n",
    "print(\"\\nApple\\nBall\")\n",
    "print(\"\\nApple\\tBall\")"
   ]
  },
  {
   "cell_type": "code",
   "execution_count": 33,
   "metadata": {},
   "outputs": [
    {
     "ename": "SyntaxError",
     "evalue": "invalid syntax (<ipython-input-33-e6c8fc51e689>, line 2)",
     "output_type": "error",
     "traceback": [
      "\u001b[1;36m  File \u001b[1;32m\"<ipython-input-33-e6c8fc51e689>\"\u001b[1;36m, line \u001b[1;32m2\u001b[0m\n\u001b[1;33m    print('Apple's a fruit')\u001b[0m\n\u001b[1;37m                 ^\u001b[0m\n\u001b[1;31mSyntaxError\u001b[0m\u001b[1;31m:\u001b[0m invalid syntax\n"
     ]
    }
   ],
   "source": [
    "# Apple's a fruit\n",
    "print('Apple's a fruit')"
   ]
  },
  {
   "cell_type": "code",
   "execution_count": 34,
   "metadata": {},
   "outputs": [
    {
     "name": "stdout",
     "output_type": "stream",
     "text": [
      "Apple's a fruit\n"
     ]
    }
   ],
   "source": [
    "print('Apple\\'s a fruit')"
   ]
  },
  {
   "cell_type": "code",
   "execution_count": 36,
   "metadata": {},
   "outputs": [
    {
     "name": "stdout",
     "output_type": "stream",
     "text": [
      "\\My name is Manish\\\n"
     ]
    }
   ],
   "source": [
    "# \\My name is Manish\\\n",
    "print('\\\\My name is Manish\\\\')"
   ]
  },
  {
   "cell_type": "code",
   "execution_count": 38,
   "metadata": {},
   "outputs": [
    {
     "ename": "SyntaxError",
     "evalue": "invalid syntax (<ipython-input-38-1f840e77fc0b>, line 2)",
     "output_type": "error",
     "traceback": [
      "\u001b[1;36m  File \u001b[1;32m\"<ipython-input-38-1f840e77fc0b>\"\u001b[1;36m, line \u001b[1;32m2\u001b[0m\n\u001b[1;33m    print(\"She said \"I am going\"\")\u001b[0m\n\u001b[1;37m                     ^\u001b[0m\n\u001b[1;31mSyntaxError\u001b[0m\u001b[1;31m:\u001b[0m invalid syntax\n"
     ]
    }
   ],
   "source": [
    "# She said \"I am going\"\n",
    "print(\"She said \"I am going\"\")"
   ]
  },
  {
   "cell_type": "code",
   "execution_count": 40,
   "metadata": {},
   "outputs": [
    {
     "name": "stdout",
     "output_type": "stream",
     "text": [
      "She said \"I am going.\"\n"
     ]
    }
   ],
   "source": [
    "print(\"She said \\\"I am going.\\\"\")"
   ]
  },
  {
   "cell_type": "code",
   "execution_count": 41,
   "metadata": {},
   "outputs": [
    {
     "name": "stdout",
     "output_type": "stream",
     "text": [
      "My name is ABC\n",
      "ABC's age is 9 years\n",
      "ABC\\ said \" I am going\". \n"
     ]
    }
   ],
   "source": [
    "print(\"My name is ABC\")\n",
    "print('ABC\\'s age is 9 years')\n",
    "print(\"ABC\\\\ said \\\" I am going\\\". \")"
   ]
  },
  {
   "cell_type": "raw",
   "metadata": {},
   "source": [
    "Python raw string is created by prefixing a string literal with ‘r’ or ‘R’. Python raw string treats backslash (\\) as a literal character. This is used when we want to have a string that contains backslash and don’t want it to be treated as an escape character."
   ]
  },
  {
   "cell_type": "code",
   "execution_count": 43,
   "metadata": {},
   "outputs": [
    {
     "ename": "SyntaxError",
     "evalue": "EOL while scanning string literal (<ipython-input-43-ddc124679232>, line 1)",
     "output_type": "error",
     "traceback": [
      "\u001b[1;36m  File \u001b[1;32m\"<ipython-input-43-ddc124679232>\"\u001b[1;36m, line \u001b[1;32m1\u001b[0m\n\u001b[1;33m    print(\"\\\\\\XYZ \\\\\\\")\u001b[0m\n\u001b[1;37m                       ^\u001b[0m\n\u001b[1;31mSyntaxError\u001b[0m\u001b[1;31m:\u001b[0m EOL while scanning string literal\n"
     ]
    }
   ],
   "source": [
    "print(\"\\\\\\XYZ \\\\\\\")"
   ]
  },
  {
   "cell_type": "code",
   "execution_count": 42,
   "metadata": {},
   "outputs": [
    {
     "name": "stdout",
     "output_type": "stream",
     "text": [
      "\\\\XYZ\\\\\n"
     ]
    }
   ],
   "source": [
    "# \\\\XYZ\\\\\n",
    "print(R\"\\\\XYZ\\\\\")\n"
   ]
  },
  {
   "cell_type": "code",
   "execution_count": 45,
   "metadata": {},
   "outputs": [
    {
     "ename": "SyntaxError",
     "evalue": "EOL while scanning string literal (<ipython-input-45-a63e16160f07>, line 1)",
     "output_type": "error",
     "traceback": [
      "\u001b[1;36m  File \u001b[1;32m\"<ipython-input-45-a63e16160f07>\"\u001b[1;36m, line \u001b[1;32m1\u001b[0m\n\u001b[1;33m    print(R\"\\\\\\XYZ\\\\\\\")\u001b[0m\n\u001b[1;37m                       ^\u001b[0m\n\u001b[1;31mSyntaxError\u001b[0m\u001b[1;31m:\u001b[0m EOL while scanning string literal\n"
     ]
    }
   ],
   "source": [
    "print(R\"\\\\\\XYZ\\\\\\\")"
   ]
  },
  {
   "cell_type": "code",
   "execution_count": 46,
   "metadata": {},
   "outputs": [
    {
     "name": "stdout",
     "output_type": "stream",
     "text": [
      "\\n ABC \\n\n"
     ]
    }
   ],
   "source": [
    "# \\n ABC \\n\n",
    "print(r'\\n ABC \\n')"
   ]
  },
  {
   "cell_type": "code",
   "execution_count": 47,
   "metadata": {},
   "outputs": [
    {
     "name": "stdout",
     "output_type": "stream",
     "text": [
      "Today\\n is Tuesday\n"
     ]
    }
   ],
   "source": [
    "print(r'Today\\n is Tuesday')"
   ]
  },
  {
   "cell_type": "code",
   "execution_count": 48,
   "metadata": {},
   "outputs": [
    {
     "name": "stdout",
     "output_type": "stream",
     "text": [
      "Today\n",
      " is Tuesday\n"
     ]
    }
   ],
   "source": [
    "print('Today\\n is Tuesday')"
   ]
  },
  {
   "cell_type": "code",
   "execution_count": 49,
   "metadata": {},
   "outputs": [
    {
     "name": "stdout",
     "output_type": "stream",
     "text": [
      "Good\n",
      "Morning\n",
      "Good\\nMorning\n"
     ]
    }
   ],
   "source": [
    "s = 'Good\\nMorning'\n",
    "print(s)\n",
    "s = r'Good\\nMorning'\n",
    "print(s)"
   ]
  },
  {
   "cell_type": "code",
   "execution_count": 81,
   "metadata": {},
   "outputs": [
    {
     "name": "stdout",
     "output_type": "stream",
     "text": [
      "Hi there!\n",
      "How are you?\n",
      "Long time, no see.\n",
      "Thank You\n",
      "\n"
     ]
    }
   ],
   "source": [
    "print('''Hi there!\n",
    "How are you?\n",
    "Long time, no see.\n",
    "Thank You\n",
    "''')"
   ]
  },
  {
   "cell_type": "raw",
   "metadata": {},
   "source": [
    "String Formatting\n",
    "the % operator takes only one argument, we need to wrap the right-hand side in a tuple, like so"
   ]
  },
  {
   "cell_type": "code",
   "execution_count": 56,
   "metadata": {},
   "outputs": [],
   "source": [
    "name = \"Manish\"\n",
    "age = 20"
   ]
  },
  {
   "cell_type": "code",
   "execution_count": 55,
   "metadata": {
    "collapsed": true
   },
   "outputs": [
    {
     "name": "stdout",
     "output_type": "stream",
     "text": [
      "Hi, Manish\n",
      "Hi,Manish\n"
     ]
    }
   ],
   "source": [
    "# Hi, Manish\n",
    "print(\"Hi, Manish\")\n",
    "print(\"Hi,%s\" %name)"
   ]
  },
  {
   "cell_type": "code",
   "execution_count": 57,
   "metadata": {
    "collapsed": true
   },
   "outputs": [
    {
     "name": "stdout",
     "output_type": "stream",
     "text": [
      "I am 20 years old\n",
      "I am 20 years old\n"
     ]
    }
   ],
   "source": [
    "# I am 20 years old\n",
    "print(\"I am 20 years old\")\n",
    "print('I am %d years old' %age)"
   ]
  },
  {
   "cell_type": "code",
   "execution_count": 58,
   "metadata": {
    "collapsed": true
   },
   "outputs": [
    {
     "name": "stdout",
     "output_type": "stream",
     "text": [
      "Manish is 20 years old\n",
      "Manish is 20 years old\n"
     ]
    }
   ],
   "source": [
    "# Manish is 20 years old\n",
    "print(\"Manish is 20 years old\")\n",
    "print(\"%s is %d years old\" %(name,age))"
   ]
  },
  {
   "cell_type": "code",
   "execution_count": 59,
   "metadata": {},
   "outputs": [
    {
     "name": "stdout",
     "output_type": "stream",
     "text": [
      "Hey AABC, I am  12 years old.\n"
     ]
    }
   ],
   "source": [
    "#position independent\n",
    "name = 'AABC'\n",
    "age = 12\n",
    "print('Hey %(n)s, I am  %(a)d years old.' % { \"a\": age , \"n\" : name })"
   ]
  },
  {
   "cell_type": "raw",
   "metadata": {},
   "source": [
    "str.format() - # New Style string formatting\n",
    "- code independent\n",
    "- position independent"
   ]
  },
  {
   "cell_type": "code",
   "execution_count": 66,
   "metadata": {},
   "outputs": [
    {
     "name": "stdout",
     "output_type": "stream",
     "text": [
      "Hello, AABC\n"
     ]
    },
    {
     "data": {
      "text/plain": [
       "'Hello, AABC'"
      ]
     },
     "execution_count": 66,
     "metadata": {},
     "output_type": "execute_result"
    }
   ],
   "source": [
    "s = 'Hello, {}'\n",
    "print(s.format(name))\n",
    "'Hello, {}'.format(name)"
   ]
  },
  {
   "cell_type": "code",
   "execution_count": 65,
   "metadata": {},
   "outputs": [
    {
     "name": "stdout",
     "output_type": "stream",
     "text": [
      "Hey AABC, I'm 12 years old.\n"
     ]
    }
   ],
   "source": [
    "print(\"Hey {n}, I'm {a} years old.\" .format(a = age , n = name))"
   ]
  },
  {
   "cell_type": "raw",
   "metadata": {},
   "source": [
    "f- string formatting"
   ]
  },
  {
   "cell_type": "code",
   "execution_count": 11,
   "metadata": {},
   "outputs": [
    {
     "name": "stdout",
     "output_type": "stream",
     "text": [
      "Hey, AABC, I'm 12 years old.\n"
     ]
    }
   ],
   "source": [
    "print(f\"Hey, {name}, I'm {age} years old.\")"
   ]
  },
  {
   "cell_type": "code",
   "execution_count": null,
   "metadata": {},
   "outputs": [],
   "source": [
    "a = 2\n",
    "b = 10\n",
    "print(f' a + b gives {a + b} and a*b gives {a*b}')"
   ]
  },
  {
   "cell_type": "code",
   "execution_count": 14,
   "metadata": {},
   "outputs": [
    {
     "data": {
      "text/plain": [
       "\"Hello, Bob! How's it going?\""
      ]
     },
     "execution_count": 14,
     "metadata": {},
     "output_type": "execute_result"
    }
   ],
   "source": [
    "def greet(name, question):\n",
    "     return f\"Hello, {name}! How's it {question}?\"\n",
    "\n",
    "greet('Bob', 'going')"
   ]
  },
  {
   "cell_type": "markdown",
   "metadata": {},
   "source": [
    "# Data Types"
   ]
  },
  {
   "cell_type": "raw",
   "metadata": {},
   "source": [
    " Python Numbers\n",
    "    - integers\n",
    "    - decimal(float)\n",
    "    - complex\n",
    " Python List\n",
    " Python Tuple\n",
    " Python Strings\n",
    " Python Set\n",
    " Python Dictionary"
   ]
  },
  {
   "cell_type": "markdown",
   "metadata": {},
   "source": [
    "### Python Numbers\n",
    "  #### -integers\n",
    "  #### -decimal(float)\n",
    "  #### -complex"
   ]
  },
  {
   "cell_type": "code",
   "execution_count": 71,
   "metadata": {
    "collapsed": true
   },
   "outputs": [
    {
     "name": "stdout",
     "output_type": "stream",
     "text": [
      "9\n",
      "<class 'int'>\n"
     ]
    }
   ],
   "source": [
    "a = 9\n",
    "print(a)\n",
    "print(type(a))"
   ]
  },
  {
   "cell_type": "code",
   "execution_count": 70,
   "metadata": {
    "collapsed": true
   },
   "outputs": [
    {
     "name": "stdout",
     "output_type": "stream",
     "text": [
      "-0.75\n",
      "<class 'float'>\n"
     ]
    }
   ],
   "source": [
    "b = -0.75\n",
    "print(b)\n",
    "print(type(b))"
   ]
  },
  {
   "cell_type": "code",
   "execution_count": 72,
   "metadata": {
    "collapsed": true
   },
   "outputs": [
    {
     "name": "stdout",
     "output_type": "stream",
     "text": [
      "(7+8j)\n",
      "<class 'complex'>\n"
     ]
    }
   ],
   "source": [
    "c = (7+ 8j)\n",
    "print(c)\n",
    "print(type(c))"
   ]
  },
  {
   "cell_type": "markdown",
   "metadata": {},
   "source": [
    "### Python strings"
   ]
  },
  {
   "cell_type": "code",
   "execution_count": 73,
   "metadata": {
    "collapsed": true
   },
   "outputs": [
    {
     "name": "stdout",
     "output_type": "stream",
     "text": [
      "tiger\n",
      "<class 'str'>\n"
     ]
    }
   ],
   "source": [
    "d = \"tiger\"\n",
    "print(d)\n",
    "print(type(d))"
   ]
  },
  {
   "cell_type": "markdown",
   "metadata": {},
   "source": [
    "### Python Lists [ ]"
   ]
  },
  {
   "cell_type": "code",
   "execution_count": 75,
   "metadata": {
    "collapsed": true
   },
   "outputs": [
    {
     "name": "stdout",
     "output_type": "stream",
     "text": [
      "[1, 2, 3, 'a', 'apple', 'ball 2', '89', 0.9, True]\n",
      "<class 'list'>\n"
     ]
    }
   ],
   "source": [
    "lis = [1, 2, 3, \"a\" , \"apple\" , \"ball 2\" , \"89\" , 0.9, True]\n",
    "print(lis)\n",
    "print(type(lis))"
   ]
  },
  {
   "cell_type": "markdown",
   "metadata": {},
   "source": [
    "### Python Dictionaries {  :  }"
   ]
  },
  {
   "cell_type": "code",
   "execution_count": 77,
   "metadata": {
    "collapsed": true
   },
   "outputs": [
    {
     "name": "stdout",
     "output_type": "stream",
     "text": [
      "{1: 'a', 2: 'b', 'c': 'cat1', 'd': 0.97}\n",
      "<class 'dict'>\n"
     ]
    }
   ],
   "source": [
    "dictionary = {1 : 'a' , 2 : 'b' , 'c' : 'cat1' , 'd' : 0.97}\n",
    "print(dictionary)\n",
    "print(type(dictionary))"
   ]
  },
  {
   "cell_type": "markdown",
   "metadata": {},
   "source": [
    "### Python Tuples ( )"
   ]
  },
  {
   "cell_type": "code",
   "execution_count": 78,
   "metadata": {},
   "outputs": [
    {
     "name": "stdout",
     "output_type": "stream",
     "text": [
      "(1, 3, 'apple', -0.6, False)\n",
      "<class 'tuple'>\n"
     ]
    }
   ],
   "source": [
    "tup = (1, 3, \"apple\", -0.6, False)\n",
    "print(tup)\n",
    "print(type(tup))"
   ]
  },
  {
   "cell_type": "markdown",
   "metadata": {},
   "source": [
    "### Python Sets { }"
   ]
  },
  {
   "cell_type": "code",
   "execution_count": 79,
   "metadata": {},
   "outputs": [
    {
     "name": "stdout",
     "output_type": "stream",
     "text": [
      "{-0.6, 1, 2, 'apple'}\n",
      "<class 'set'>\n"
     ]
    }
   ],
   "source": [
    "S = {1, 2,\"apple\", -0.6}\n",
    "print(S)\n",
    "print(type(S))"
   ]
  }
 ],
 "metadata": {
  "kernelspec": {
   "display_name": "Python 3",
   "language": "python",
   "name": "python3"
  },
  "language_info": {
   "codemirror_mode": {
    "name": "ipython",
    "version": 3
   },
   "file_extension": ".py",
   "mimetype": "text/x-python",
   "name": "python",
   "nbconvert_exporter": "python",
   "pygments_lexer": "ipython3",
   "version": "3.7.3"
  }
 },
 "nbformat": 4,
 "nbformat_minor": 2
}
