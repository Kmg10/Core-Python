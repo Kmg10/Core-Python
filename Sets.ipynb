{
 "cells": [
  {
   "cell_type": "markdown",
   "metadata": {},
   "source": [
    "# Sets\n",
    "- are unordered collection of unique elements\n",
    "- by default sorted\n",
    "- iterable\n",
    "- mutable\n",
    "- Normal set operations, i.e., union, intersection, etc.\n",
    "- Checking presence of particular element - optimized\n",
    "- Syntax : variable_name = set([a list of elements])"
   ]
  },
  {
   "cell_type": "markdown",
   "metadata": {},
   "source": [
    "## Creation of Sets"
   ]
  },
  {
   "cell_type": "markdown",
   "metadata": {},
   "source": [
    "##### using curly braces { }"
   ]
  },
  {
   "cell_type": "code",
   "execution_count": 39,
   "metadata": {},
   "outputs": [
    {
     "name": "stdout",
     "output_type": "stream",
     "text": [
      "Set is :  {33, 11, 22}\n",
      "Type:  <class 'set'>\n"
     ]
    }
   ],
   "source": [
    "set_ = {11,22,33}\n",
    "print('Set is : ', set_)\n",
    "print('Type: ',type(set_))"
   ]
  },
  {
   "cell_type": "markdown",
   "metadata": {},
   "source": [
    "##### using list"
   ]
  },
  {
   "cell_type": "code",
   "execution_count": 38,
   "metadata": {},
   "outputs": [
    {
     "name": "stdout",
     "output_type": "stream",
     "text": [
      "Set is :  {1, 2, 3, 4}\n",
      "Type:  <class 'set'>\n"
     ]
    }
   ],
   "source": [
    "_set = set([1,2,3,4])\n",
    "print('Set is : ', _set)\n",
    "print('Type: ',type(_set))"
   ]
  },
  {
   "cell_type": "markdown",
   "metadata": {},
   "source": [
    "### Lists vs Sets"
   ]
  },
  {
   "cell_type": "code",
   "execution_count": 34,
   "metadata": {},
   "outputs": [
    {
     "name": "stdout",
     "output_type": "stream",
     "text": [
      "List is :  [1, 2, 2, 4, 6, 5, 6, 1, 3, 8, 0, 0, 9, 'apple', 'Axe', 'ball', 'apple'] \n",
      "Type :  <class 'list'>\n",
      "Accesing list element, l1[5]:  5\n",
      "\n",
      "Set is :  {0, 1, 2, 3, 4, 5, 6, 'ball', 8, 9, 'apple', 'Axe'} \n",
      "Type :  <class 'set'>\n"
     ]
    }
   ],
   "source": [
    "l1 = [1,2,2,4,6,5,6,1,3,8,0,0,9, 'apple', 'Axe', 'ball','apple']\n",
    "print('List is : ', l1, '\\nType : ',type(l1))\n",
    "print('Accessing list element, l1[5]: ', l1[5])\n",
    "\n",
    "s1 = set(l1)\n",
    "print('\\nSet is : ', s1, '\\nType : ',type(s1))\n",
    "#print(\"Accessing set element, s1[5]: ,'s1[5])"
   ]
  },
  {
   "cell_type": "markdown",
   "metadata": {},
   "source": [
    "###  Mutability of sets"
   ]
  },
  {
   "cell_type": "code",
   "execution_count": 36,
   "metadata": {},
   "outputs": [
    {
     "name": "stdout",
     "output_type": "stream",
     "text": [
      "Set :  {1, 2, 3, 4, 'a'} \n",
      " Id :  2069080808808\n",
      "After adding an element :  {1, 2, 3, 4, 'a'} \n",
      " Id :  2069080808808\n",
      "After updating elements :  {1, 2, 3, 4, 5, 6, 'a'} \n",
      " Id :  2069080808808\n"
     ]
    }
   ],
   "source": [
    "print('Set : ', s ,'\\n Id : ', id(s))\n",
    "\n",
    "s.add('a')\n",
    "print('After adding an element : ', s ,'\\n Id : ', id(s))\n",
    "\n",
    "s.update([4,5,6])\n",
    "print('After updating elements : ', s ,'\\n Id : ', id(s))"
   ]
  },
  {
   "cell_type": "markdown",
   "metadata": {},
   "source": [
    "### Immutable sets - frozenset( )"
   ]
  },
  {
   "cell_type": "code",
   "execution_count": 19,
   "metadata": {},
   "outputs": [
    {
     "data": {
      "text/plain": [
       "frozenset({1, 2, 3, 4})"
      ]
     },
     "execution_count": 19,
     "metadata": {},
     "output_type": "execute_result"
    }
   ],
   "source": [
    "fs = frozenset([1,2,3,4])\n",
    "fs"
   ]
  },
  {
   "cell_type": "code",
   "execution_count": 20,
   "metadata": {
    "collapsed": true
   },
   "outputs": [
    {
     "ename": "AttributeError",
     "evalue": "'frozenset' object has no attribute 'add'",
     "output_type": "error",
     "traceback": [
      "\u001b[1;31m---------------------------------------------------------------------------\u001b[0m",
      "\u001b[1;31mAttributeError\u001b[0m                            Traceback (most recent call last)",
      "\u001b[1;32m<ipython-input-20-4466cb93f577>\u001b[0m in \u001b[0;36m<module>\u001b[1;34m\u001b[0m\n\u001b[1;32m----> 1\u001b[1;33m \u001b[0mfs1\u001b[0m \u001b[1;33m=\u001b[0m \u001b[0mfs\u001b[0m\u001b[1;33m.\u001b[0m\u001b[0madd\u001b[0m\u001b[1;33m(\u001b[0m\u001b[1;34m'a'\u001b[0m\u001b[1;33m)\u001b[0m\u001b[1;33m\u001b[0m\u001b[1;33m\u001b[0m\u001b[0m\n\u001b[0m",
      "\u001b[1;31mAttributeError\u001b[0m: 'frozenset' object has no attribute 'add'"
     ]
    }
   ],
   "source": [
    "fs1 = fs.add('a')"
   ]
  },
  {
   "cell_type": "markdown",
   "metadata": {},
   "source": [
    "### Set Operations"
   ]
  },
  {
   "cell_type": "code",
   "execution_count": 44,
   "metadata": {},
   "outputs": [
    {
     "name": "stdout",
     "output_type": "stream",
     "text": [
      "Set A :  {3, 36, 'apple', 11, 52, 'doll'}\n",
      "Set A :  {36, 11, 44, 23, 'brain', 'doll'}\n"
     ]
    }
   ],
   "source": [
    "set_A = set([11, 3, 'doll', 52, 36, 'apple'])\n",
    "set_B = set([23, 44, 36, 'doll', 11, 'brain'])\n",
    "print(\"Set A : \", set_A)\n",
    "print(\"Set A : \", set_B)"
   ]
  },
  {
   "cell_type": "code",
   "execution_count": 45,
   "metadata": {},
   "outputs": [
    {
     "name": "stdout",
     "output_type": "stream",
     "text": [
      "Union of sets:  {3, 36, 'apple', 11, 44, 52, 23, 'brain', 'doll'}\n",
      "Intersection of sets:  {'doll', 11, 36}\n",
      "Symmetric difference of sets:  {3, 52, 23, 'brain', 'apple', 44}\n",
      "Difference of SetA and Set B :  {'apple', 3, 52}\n"
     ]
    }
   ],
   "source": [
    "print('Union of sets: ', set_A.union(set_B))\n",
    "print('Intersection of sets: ', set_A.intersection(set_B))\n",
    "print('Symmetric difference of sets: ', set_A.symmetric_difference(set_B))\n",
    "print('Difference of SetA and Set B : ', set_A.difference(set_B))"
   ]
  },
  {
   "cell_type": "markdown",
   "metadata": {},
   "source": [
    "### Operators with Sets"
   ]
  },
  {
   "cell_type": "markdown",
   "metadata": {},
   "source": [
    "##### Set Operations using Bit-wise opeartors"
   ]
  },
  {
   "cell_type": "code",
   "execution_count": 47,
   "metadata": {
    "collapsed": true
   },
   "outputs": [
    {
     "name": "stdout",
     "output_type": "stream",
     "text": [
      "Symmetric difference of sets:  {3, 52, 23, 'brain', 'apple', 44}\n",
      "Intersection of sets:  {'doll', 11, 36}\n",
      "Union of sets:  {3, 36, 'apple', 11, 44, 52, 23, 'brain', 'doll'}\n",
      "Difference of SetA and Set B :  {'apple', 3, 52}\n"
     ]
    }
   ],
   "source": [
    "print('Symmetric difference of sets: ', set_A ^ set_B) \n",
    "print('Intersection of sets: ', set_A & set_B)\n",
    "print('Union of sets: ', set_A | set_B)\n",
    "print('Difference of SetA and Set B : ', set_A - set_B)"
   ]
  },
  {
   "cell_type": "markdown",
   "metadata": {},
   "source": [
    "##### Testing presence of elements using Membership Operators"
   ]
  },
  {
   "cell_type": "code",
   "execution_count": 13,
   "metadata": {},
   "outputs": [
    {
     "data": {
      "text/plain": [
       "False"
      ]
     },
     "execution_count": 13,
     "metadata": {},
     "output_type": "execute_result"
    }
   ],
   "source": [
    "0 in s1"
   ]
  },
  {
   "cell_type": "code",
   "execution_count": 14,
   "metadata": {},
   "outputs": [
    {
     "data": {
      "text/plain": [
       "False"
      ]
     },
     "execution_count": 14,
     "metadata": {},
     "output_type": "execute_result"
    }
   ],
   "source": [
    "3 not in s1"
   ]
  },
  {
   "cell_type": "markdown",
   "metadata": {},
   "source": [
    "## Built-in functions with sets"
   ]
  },
  {
   "cell_type": "code",
   "execution_count": 51,
   "metadata": {
    "collapsed": true
   },
   "outputs": [
    {
     "data": {
      "text/plain": [
       "['__and__',\n",
       " '__class__',\n",
       " '__contains__',\n",
       " '__delattr__',\n",
       " '__dir__',\n",
       " '__doc__',\n",
       " '__eq__',\n",
       " '__format__',\n",
       " '__ge__',\n",
       " '__getattribute__',\n",
       " '__gt__',\n",
       " '__hash__',\n",
       " '__iand__',\n",
       " '__init__',\n",
       " '__init_subclass__',\n",
       " '__ior__',\n",
       " '__isub__',\n",
       " '__iter__',\n",
       " '__ixor__',\n",
       " '__le__',\n",
       " '__len__',\n",
       " '__lt__',\n",
       " '__ne__',\n",
       " '__new__',\n",
       " '__or__',\n",
       " '__rand__',\n",
       " '__reduce__',\n",
       " '__reduce_ex__',\n",
       " '__repr__',\n",
       " '__ror__',\n",
       " '__rsub__',\n",
       " '__rxor__',\n",
       " '__setattr__',\n",
       " '__sizeof__',\n",
       " '__str__',\n",
       " '__sub__',\n",
       " '__subclasshook__',\n",
       " '__xor__',\n",
       " 'add',\n",
       " 'clear',\n",
       " 'copy',\n",
       " 'difference',\n",
       " 'difference_update',\n",
       " 'discard',\n",
       " 'intersection',\n",
       " 'intersection_update',\n",
       " 'isdisjoint',\n",
       " 'issubset',\n",
       " 'issuperset',\n",
       " 'pop',\n",
       " 'remove',\n",
       " 'symmetric_difference',\n",
       " 'symmetric_difference_update',\n",
       " 'union',\n",
       " 'update']"
      ]
     },
     "execution_count": 51,
     "metadata": {},
     "output_type": "execute_result"
    }
   ],
   "source": [
    "s1 = {'b', 1, 4, 'parrot6', 2.0, 37, 8, 'fruit', 76, 'a'}\n",
    "dir(s1)"
   ]
  },
  {
   "cell_type": "markdown",
   "metadata": {},
   "source": [
    "##### issuperset()"
   ]
  },
  {
   "cell_type": "code",
   "execution_count": 52,
   "metadata": {
    "collapsed": true
   },
   "outputs": [
    {
     "name": "stdout",
     "output_type": "stream",
     "text": [
      "Set 1 is :  {1, 2.0, 'parrot6', 'b', 4, 37, 8, 'a', 76, 'fruit'}\n",
      "Set 1 is :  {1, 'b', 37, 'a'}\n",
      "Set 1 is :  {1, '37', 'b'}\n",
      "s2 is subset of s1? :  True\n",
      "s3 is subset of s1? :  False\n"
     ]
    }
   ],
   "source": [
    "print('Set 1 is : ',s1)\n",
    "s2 = {'b',1,'a',37}\n",
    "s3 = {'b', 1, '37'}\n",
    "print('Set 1 is : ',s2)\n",
    "print('Set 1 is : ',s3)\n",
    "print('s2 is subset of s1? : ', s1.issuperset(s2))\n",
    "print('s3 is subset of s1? : ', s1.issuperset(s3))"
   ]
  }
 ],
 "metadata": {
  "kernelspec": {
   "display_name": "Python 3",
   "language": "python",
   "name": "python3"
  },
  "language_info": {
   "codemirror_mode": {
    "name": "ipython",
    "version": 3
   },
   "file_extension": ".py",
   "mimetype": "text/x-python",
   "name": "python",
   "nbconvert_exporter": "python",
   "pygments_lexer": "ipython3",
   "version": "3.7.3"
  }
 },
 "nbformat": 4,
 "nbformat_minor": 2
}
