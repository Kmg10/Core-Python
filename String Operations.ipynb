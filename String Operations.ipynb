{
 "cells": [
  {
   "cell_type": "markdown",
   "metadata": {},
   "source": [
    "# Strings \" \""
   ]
  },
  {
   "cell_type": "code",
   "execution_count": 1,
   "metadata": {
    "collapsed": true
   },
   "outputs": [
    {
     "name": "stdout",
     "output_type": "stream",
     "text": [
      " word \n",
      "<class 'str'>\n"
     ]
    }
   ],
   "source": [
    "s = \" word \"\n",
    "print(s)\n",
    "print(type(s))"
   ]
  },
  {
   "cell_type": "markdown",
   "metadata": {},
   "source": [
    "## String Operations"
   ]
  },
  {
   "cell_type": "markdown",
   "metadata": {},
   "source": [
    "#### Concatenation"
   ]
  },
  {
   "cell_type": "code",
   "execution_count": 1,
   "metadata": {
    "collapsed": true
   },
   "outputs": [
    {
     "data": {
      "text/plain": [
       "'applebat'"
      ]
     },
     "execution_count": 1,
     "metadata": {},
     "output_type": "execute_result"
    }
   ],
   "source": [
    "'apple' + 'bat'"
   ]
  },
  {
   "cell_type": "code",
   "execution_count": 2,
   "metadata": {
    "collapsed": true
   },
   "outputs": [
    {
     "data": {
      "text/plain": [
       "'45'"
      ]
     },
     "execution_count": 2,
     "metadata": {},
     "output_type": "execute_result"
    }
   ],
   "source": [
    "'4' + '5'"
   ]
  },
  {
   "cell_type": "code",
   "execution_count": 3,
   "metadata": {},
   "outputs": [
    {
     "name": "stdout",
     "output_type": "stream",
     "text": [
      "Enter a word: rat \n",
      "Enter another word: cat\n",
      "Concatenation of two words is :  rat cat\n"
     ]
    }
   ],
   "source": [
    "a = input(\"Enter a word: \")\n",
    "b = input(\"Enter another word: \")\n",
    "c = a+b\n",
    "print(\"Concatenation of two words is : \" ,c)"
   ]
  },
  {
   "cell_type": "markdown",
   "metadata": {},
   "source": [
    "### String Replication"
   ]
  },
  {
   "cell_type": "code",
   "execution_count": 12,
   "metadata": {
    "collapsed": true
   },
   "outputs": [
    {
     "name": "stdout",
     "output_type": "stream",
     "text": [
      "ABC ABC ABC \n"
     ]
    }
   ],
   "source": [
    "a = \"ABC \"\n",
    "print(a*3)"
   ]
  },
  {
   "cell_type": "code",
   "execution_count": 13,
   "metadata": {
    "collapsed": true
   },
   "outputs": [
    {
     "name": "stdout",
     "output_type": "stream",
     "text": [
      "\n",
      " ABC\n",
      " ABC\n",
      " ABC\n"
     ]
    }
   ],
   "source": [
    "b = \"\\n ABC\"\n",
    "print(b*3)"
   ]
  },
  {
   "cell_type": "markdown",
   "metadata": {},
   "source": [
    "### String Indexing"
   ]
  },
  {
   "cell_type": "code",
   "execution_count": 4,
   "metadata": {},
   "outputs": [
    {
     "name": "stdout",
     "output_type": "stream",
     "text": [
      " \n",
      "14\n",
      "i\n"
     ]
    }
   ],
   "source": [
    "s = \"My name is ABC\"\n",
    "print(s[2])\n",
    "print(len(s))\n",
    "print(s[-6])"
   ]
  },
  {
   "cell_type": "markdown",
   "metadata": {},
   "source": [
    "### String Slicing\n",
    "- Syntax:\n",
    "\n",
    "      str_name[ start_index : stop_index : steps(direction) ]"
   ]
  },
  {
   "cell_type": "code",
   "execution_count": 5,
   "metadata": {
    "collapsed": true
   },
   "outputs": [
    {
     "name": "stdout",
     "output_type": "stream",
     "text": [
      "My na\n",
      "My na\n"
     ]
    }
   ],
   "source": [
    "print(s[0 : 5 : 1])\n",
    "print(s[0 : 5])"
   ]
  },
  {
   "cell_type": "code",
   "execution_count": 6,
   "metadata": {},
   "outputs": [
    {
     "name": "stdout",
     "output_type": "stream",
     "text": [
      " name is \n"
     ]
    }
   ],
   "source": [
    "print(s[2 : 11])"
   ]
  },
  {
   "cell_type": "code",
   "execution_count": 7,
   "metadata": {},
   "outputs": [
    {
     "name": "stdout",
     "output_type": "stream",
     "text": [
      " aei B\n"
     ]
    }
   ],
   "source": [
    "print(s[2 : 13 : 2])"
   ]
  },
  {
   "cell_type": "code",
   "execution_count": 22,
   "metadata": {},
   "outputs": [
    {
     "name": "stdout",
     "output_type": "stream",
     "text": [
      " name is \n"
     ]
    }
   ],
   "source": [
    "print(s[-12 : -3 ])"
   ]
  },
  {
   "cell_type": "code",
   "execution_count": 8,
   "metadata": {},
   "outputs": [
    {
     "name": "stdout",
     "output_type": "stream",
     "text": [
      "ynm sA\n"
     ]
    }
   ],
   "source": [
    "print(s[-13 : -1 : 2])"
   ]
  },
  {
   "cell_type": "code",
   "execution_count": 24,
   "metadata": {
    "collapsed": true
   },
   "outputs": [
    {
     "name": "stdout",
     "output_type": "stream",
     "text": [
      "\n"
     ]
    }
   ],
   "source": [
    "print(s[12 : 3 : 1])"
   ]
  },
  {
   "cell_type": "code",
   "execution_count": 9,
   "metadata": {},
   "outputs": [
    {
     "name": "stdout",
     "output_type": "stream",
     "text": [
      "BA si ema\n"
     ]
    }
   ],
   "source": [
    "print(s[12 : 3 : -1])"
   ]
  },
  {
   "cell_type": "code",
   "execution_count": 26,
   "metadata": {
    "collapsed": true
   },
   "outputs": [
    {
     "name": "stdout",
     "output_type": "stream",
     "text": [
      "\n"
     ]
    }
   ],
   "source": [
    "print(s[-2 : -13 : 1])"
   ]
  },
  {
   "cell_type": "code",
   "execution_count": 27,
   "metadata": {
    "collapsed": true
   },
   "outputs": [
    {
     "name": "stdout",
     "output_type": "stream",
     "text": [
      "BA si eman \n"
     ]
    }
   ],
   "source": [
    "print(s[-2 : -13 : -1])"
   ]
  },
  {
   "cell_type": "code",
   "execution_count": 13,
   "metadata": {},
   "outputs": [
    {
     "data": {
      "text/plain": [
       "'My na'"
      ]
     },
     "execution_count": 13,
     "metadata": {},
     "output_type": "execute_result"
    }
   ],
   "source": [
    "s[ : -9 ]"
   ]
  },
  {
   "cell_type": "code",
   "execution_count": 14,
   "metadata": {},
   "outputs": [
    {
     "data": {
      "text/plain": [
       "'n yM'"
      ]
     },
     "execution_count": 14,
     "metadata": {},
     "output_type": "execute_result"
    }
   ],
   "source": [
    "s[-11 : : -1]"
   ]
  },
  {
   "cell_type": "code",
   "execution_count": null,
   "metadata": {},
   "outputs": [],
   "source": [
    "# Reversing a string using slicing"
   ]
  },
  {
   "cell_type": "code",
   "execution_count": 10,
   "metadata": {},
   "outputs": [
    {
     "data": {
      "text/plain": [
       "'CBA si eman yM'"
      ]
     },
     "execution_count": 10,
     "metadata": {},
     "output_type": "execute_result"
    }
   ],
   "source": [
    "s[-1 : -15 : -1]"
   ]
  },
  {
   "cell_type": "code",
   "execution_count": 12,
   "metadata": {},
   "outputs": [
    {
     "data": {
      "text/plain": [
       "'CBA si eman yM'"
      ]
     },
     "execution_count": 12,
     "metadata": {},
     "output_type": "execute_result"
    }
   ],
   "source": [
    "s[ : : -1]"
   ]
  },
  {
   "cell_type": "markdown",
   "metadata": {},
   "source": [
    "### String Immutability"
   ]
  },
  {
   "cell_type": "code",
   "execution_count": 57,
   "metadata": {
    "collapsed": true
   },
   "outputs": [
    {
     "name": "stdout",
     "output_type": "stream",
     "text": [
      "cat\n",
      "1171574585584\n"
     ]
    }
   ],
   "source": [
    "a = 'cat'\n",
    "print(a)\n",
    "print(id(a))"
   ]
  },
  {
   "cell_type": "code",
   "execution_count": 58,
   "metadata": {
    "collapsed": true
   },
   "outputs": [
    {
     "name": "stdout",
     "output_type": "stream",
     "text": [
      "catbat\n",
      "1171626570392\n"
     ]
    }
   ],
   "source": [
    "a = a + 'bat'\n",
    "print(a)\n",
    "print(id(a))"
   ]
  },
  {
   "cell_type": "code",
   "execution_count": 25,
   "metadata": {},
   "outputs": [
    {
     "data": {
      "text/plain": [
       "'Bat'"
      ]
     },
     "execution_count": 25,
     "metadata": {},
     "output_type": "execute_result"
    }
   ],
   "source": [
    "s = 'bat'\n",
    "dir(s) # gives the directory of the functions associated with the class 'str'\n",
    "\n",
    "# Syntax : str_name.func_name() \n",
    "# eg. capitalize\n",
    "s.capitalize()"
   ]
  },
  {
   "cell_type": "markdown",
   "metadata": {},
   "source": [
    "#### sorted()"
   ]
  },
  {
   "cell_type": "code",
   "execution_count": 22,
   "metadata": {
    "collapsed": true
   },
   "outputs": [
    {
     "name": "stdout",
     "output_type": "stream",
     "text": [
      "[' ', ' ', ' ', 'A', 'B', 'C', 'M', 'a', 'e', 'i', 'm', 'n', 's', 'y']\n",
      "<class 'list'>\n"
     ]
    }
   ],
   "source": [
    "print(sorted(s))\n",
    "print(type(sorted(s)))"
   ]
  },
  {
   "cell_type": "markdown",
   "metadata": {},
   "source": [
    "- sorted() will treat a str like a list and iterate through each element. In a str, each element means each character in the str.\n",
    "- sorted() will not treat a sentence differently, and it will sort each character, including spaces."
   ]
  },
  {
   "cell_type": "markdown",
   "metadata": {},
   "source": [
    "#### String Formatting"
   ]
  },
  {
   "cell_type": "code",
   "execution_count": 16,
   "metadata": {},
   "outputs": [],
   "source": [
    "name = \"XYZ\"\n",
    "age = 20"
   ]
  },
  {
   "cell_type": "code",
   "execution_count": 17,
   "metadata": {
    "collapsed": true
   },
   "outputs": [
    {
     "name": "stdout",
     "output_type": "stream",
     "text": [
      "Hi, XYZ\n",
      "Hi, XYZ\n"
     ]
    }
   ],
   "source": [
    "# Hi, XYZ\n",
    "print(\"Hi, XYZ\")\n",
    "print(\"Hi,\" , name)"
   ]
  },
  {
   "cell_type": "code",
   "execution_count": 78,
   "metadata": {
    "collapsed": true
   },
   "outputs": [
    {
     "name": "stdout",
     "output_type": "stream",
     "text": [
      "I am 20  years old \n"
     ]
    }
   ],
   "source": [
    "# I am 20 years old\n",
    "print('I am 20 years old')\n",
    "print(\"I am\" , age , \" years old \")"
   ]
  },
  {
   "cell_type": "code",
   "execution_count": 18,
   "metadata": {},
   "outputs": [
    {
     "name": "stdout",
     "output_type": "stream",
     "text": [
      "XYZ is 20 years old\n"
     ]
    }
   ],
   "source": [
    "# XYZ is 20 years old\n",
    "print(name, \"is\" ,age ,\"years old\")"
   ]
  },
  {
   "cell_type": "markdown",
   "metadata": {},
   "source": [
    "### Old Style Formatting\n",
    "- The % operator takes only one argument, we need to wrap the right-hand side in some data structure when there are more than one data elements"
   ]
  },
  {
   "cell_type": "code",
   "execution_count": 19,
   "metadata": {},
   "outputs": [
    {
     "name": "stdout",
     "output_type": "stream",
     "text": [
      "Hi, XYZ\n",
      "Hi,XYZ\n"
     ]
    }
   ],
   "source": [
    "# Hi, XYZ\n",
    "print(\"Hi, XYZ\")\n",
    "print(\"Hi,%s\" %name)"
   ]
  },
  {
   "cell_type": "code",
   "execution_count": 6,
   "metadata": {
    "collapsed": true
   },
   "outputs": [
    {
     "name": "stdout",
     "output_type": "stream",
     "text": [
      "I am 20 years old\n",
      "I am 20 years old\n"
     ]
    }
   ],
   "source": [
    "# I am 20 years old\n",
    "print(\"I am 20 years old\")\n",
    "print('I am %d years old' %age)"
   ]
  },
  {
   "cell_type": "code",
   "execution_count": 5,
   "metadata": {
    "collapsed": true
   },
   "outputs": [
    {
     "name": "stdout",
     "output_type": "stream",
     "text": [
      "XYZ is 20 years old\n",
      "XYZ is 20 years old\n"
     ]
    }
   ],
   "source": [
    "# XYZ is 20 years old\n",
    "print(\"XYZ is 20 years old\")\n",
    "print(\"%s is %d years old\" %(name,age))"
   ]
  },
  {
   "cell_type": "code",
   "execution_count": 21,
   "metadata": {
    "collapsed": true
   },
   "outputs": [
    {
     "name": "stdout",
     "output_type": "stream",
     "text": [
      "Hey AABC, I am  12 years old. I have 12 mangoes.\n"
     ]
    }
   ],
   "source": [
    "#position independent\n",
    "name = 'AABC'\n",
    "age = 12\n",
    "print('Hey %(n)s, I am  %(a)d years old. I have %(a)d mangoes.' % { \"a\": age , \"n\" : name })"
   ]
  },
  {
   "cell_type": "code",
   "execution_count": 22,
   "metadata": {
    "collapsed": true
   },
   "outputs": [
    {
     "name": "stdout",
     "output_type": "stream",
     "text": [
      "Hey %(n)s, I am  %(a)d years old.\n",
      "Hey AABC, I am  12 years old.\n"
     ]
    }
   ],
   "source": [
    "st = 'Hey %(n)s, I am  %(a)d years old.'\n",
    "print(st)\n",
    "print(st %{ \"a\": age , \"n\" : name })"
   ]
  },
  {
   "cell_type": "code",
   "execution_count": 3,
   "metadata": {
    "collapsed": true
   },
   "outputs": [
    {
     "name": "stdout",
     "output_type": "stream",
     "text": [
      "Hey AABC I am 12 years old.\n"
     ]
    }
   ],
   "source": [
    "print('Hey',name , \"I am\", age,  'years old.')"
   ]
  },
  {
   "cell_type": "code",
   "execution_count": 5,
   "metadata": {
    "collapsed": true
   },
   "outputs": [
    {
     "name": "stdout",
     "output_type": "stream",
     "text": [
      "Hey AABC I am 12 years old.\n"
     ]
    }
   ],
   "source": [
    "print('Hey '+ name + \" I am \" + str(age)  +' years old.')"
   ]
  },
  {
   "cell_type": "markdown",
   "metadata": {},
   "source": [
    "### New Style formatting"
   ]
  },
  {
   "cell_type": "raw",
   "metadata": {},
   "source": [
    "str.format() - # New Style string formatting\n",
    "- code independent\n",
    "- position independent"
   ]
  },
  {
   "cell_type": "code",
   "execution_count": 8,
   "metadata": {},
   "outputs": [
    {
     "name": "stdout",
     "output_type": "stream",
     "text": [
      "Hello, AABC\n"
     ]
    },
    {
     "data": {
      "text/plain": [
       "'Hello, AABC'"
      ]
     },
     "execution_count": 8,
     "metadata": {},
     "output_type": "execute_result"
    }
   ],
   "source": [
    "s = 'Hello, {}'\n",
    "print(s.format(name))\n",
    "'Hello, {}'.format(name)"
   ]
  },
  {
   "cell_type": "code",
   "execution_count": 6,
   "metadata": {},
   "outputs": [
    {
     "name": "stdout",
     "output_type": "stream",
     "text": [
      "Hey AABC. I'm 12 years old\n"
     ]
    }
   ],
   "source": [
    "print(\"Hey %s. I'm %d years old\" %(name,age))"
   ]
  },
  {
   "cell_type": "code",
   "execution_count": 9,
   "metadata": {
    "collapsed": true
   },
   "outputs": [
    {
     "name": "stdout",
     "output_type": "stream",
     "text": [
      "Hey AABC, I'm 12 years old.\n"
     ]
    }
   ],
   "source": [
    "print(\"Hey {}, I'm {} years old.\" .format(name , age))"
   ]
  },
  {
   "cell_type": "code",
   "execution_count": 11,
   "metadata": {
    "collapsed": true
   },
   "outputs": [
    {
     "name": "stdout",
     "output_type": "stream",
     "text": [
      "Hey 12, I'm AABC years old.\n"
     ]
    }
   ],
   "source": [
    "print(\"Hey {}, I'm {} years old.\" .format(age , name))"
   ]
  },
  {
   "cell_type": "code",
   "execution_count": 10,
   "metadata": {},
   "outputs": [
    {
     "name": "stdout",
     "output_type": "stream",
     "text": [
      "Hey AABC, I'm 12 years old.\n"
     ]
    }
   ],
   "source": [
    "print(\"Hey {n}, I'm {a} years old.\" .format(a = age , n = name))"
   ]
  },
  {
   "cell_type": "code",
   "execution_count": 7,
   "metadata": {
    "collapsed": true
   },
   "outputs": [
    {
     "name": "stdout",
     "output_type": "stream",
     "text": [
      "Hey IJK, I'm 12 years old.\n"
     ]
    }
   ],
   "source": [
    "print(\"Hey {n}, I'm {a} years old.\" .format(a = 12 , n = \"IJK\"))"
   ]
  },
  {
   "cell_type": "code",
   "execution_count": 8,
   "metadata": {
    "collapsed": true
   },
   "outputs": [
    {
     "name": "stdout",
     "output_type": "stream",
     "text": [
      "Hey IJK, I'm 12 years old.\n"
     ]
    }
   ],
   "source": [
    "print(\"Hey {}, I'm {} years old.\" .format(\"IJK\" , 12))"
   ]
  },
  {
   "cell_type": "markdown",
   "metadata": {},
   "source": [
    "### f- string formatting"
   ]
  },
  {
   "cell_type": "code",
   "execution_count": 13,
   "metadata": {
    "collapsed": true
   },
   "outputs": [
    {
     "name": "stdout",
     "output_type": "stream",
     "text": [
      "Hey, AABC, I'm 12 years old.\n"
     ]
    }
   ],
   "source": [
    "print(f\"Hey, {name}, I'm {age} years old.\")"
   ]
  },
  {
   "cell_type": "code",
   "execution_count": 15,
   "metadata": {
    "collapsed": true
   },
   "outputs": [
    {
     "name": "stdout",
     "output_type": "stream",
     "text": [
      " a + b gives 12 and a*b gives 20\n"
     ]
    }
   ],
   "source": [
    "a = 2\n",
    "b = 10\n",
    "print(f' a + b gives {a + b} and a*b gives {a*b}')"
   ]
  }
 ],
 "metadata": {
  "kernelspec": {
   "display_name": "Python 3",
   "language": "python",
   "name": "python3"
  },
  "language_info": {
   "codemirror_mode": {
    "name": "ipython",
    "version": 3
   },
   "file_extension": ".py",
   "mimetype": "text/x-python",
   "name": "python",
   "nbconvert_exporter": "python",
   "pygments_lexer": "ipython3",
   "version": "3.7.3"
  }
 },
 "nbformat": 4,
 "nbformat_minor": 2
}
